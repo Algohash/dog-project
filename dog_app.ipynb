{
 "cells": [
  {
   "cell_type": "markdown",
   "metadata": {},
   "source": [
    "# Artificial Intelligence Nanodegree\n",
    "\n",
    "## Convolutional Neural Networks\n",
    "\n",
    "## Project: Write an Algorithm for a Dog Identification App \n",
    "\n",
    "---\n",
    "\n",
    "In this notebook, some template code has already been provided for you, and you will need to implement additional functionality to successfully complete this project. You will not need to modify the included code beyond what is requested. Sections that begin with **'(IMPLEMENTATION)'** in the header indicate that the following block of code will require additional functionality which you must provide. Instructions will be provided for each section, and the specifics of the implementation are marked in the code block with a 'TODO' statement. Please be sure to read the instructions carefully! \n",
    "\n",
    "> **Note**: Once you have completed all of the code implementations, you need to finalize your work by exporting the iPython Notebook as an HTML document. Before exporting the notebook to html, all of the code cells need to have been run so that reviewers can see the final implementation and output. You can then export the notebook by using the menu above and navigating to  \\n\",\n",
    "    \"**File -> Download as -> HTML (.html)**. Include the finished document along with this notebook as your submission.\n",
    "\n",
    "In addition to implementing code, there will be questions that you must answer which relate to the project and your implementation. Each section where you will answer a question is preceded by a **'Question X'** header. Carefully read each question and provide thorough answers in the following text boxes that begin with **'Answer:'**. Your project submission will be evaluated based on your answers to each of the questions and the implementation you provide.\n",
    "\n",
    ">**Note:** Code and Markdown cells can be executed using the **Shift + Enter** keyboard shortcut.  Markdown cells can be edited by double-clicking the cell to enter edit mode.\n",
    "\n",
    "The rubric contains _optional_ \"Stand Out Suggestions\" for enhancing the project beyond the minimum requirements. If you decide to pursue the \"Stand Out Suggestions\", you should include the code in this IPython notebook.\n",
    "\n",
    "\n",
    "\n",
    "---\n",
    "### Why We're Here \n",
    "\n",
    "In this notebook, you will make the first steps towards developing an algorithm that could be used as part of a mobile or web app.  At the end of this project, your code will accept any user-supplied image as input.  If a dog is detected in the image, it will provide an estimate of the dog's breed.  If a human is detected, it will provide an estimate of the dog breed that is most resembling.  The image below displays potential sample output of your finished project (... but we expect that each student's algorithm will behave differently!). \n",
    "\n",
    "![Sample Dog Output](images/sample_dog_output.png)\n",
    "\n",
    "In this real-world setting, you will need to piece together a series of models to perform different tasks; for instance, the algorithm that detects humans in an image will be different from the CNN that infers dog breed.  There are many points of possible failure, and no perfect algorithm exists.  Your imperfect solution will nonetheless create a fun user experience!\n",
    "\n",
    "### The Road Ahead\n",
    "\n",
    "We break the notebook into separate steps.  Feel free to use the links below to navigate the notebook.\n",
    "\n",
    "* [Step 0](#step0): Import Datasets\n",
    "* [Step 1](#step1): Detect Humans\n",
    "* [Step 2](#step2): Detect Dogs\n",
    "* [Step 3](#step3): Create a CNN to Classify Dog Breeds (from Scratch)\n",
    "* [Step 4](#step4): Use a CNN to Classify Dog Breeds (using Transfer Learning)\n",
    "* [Step 5](#step5): Create a CNN to Classify Dog Breeds (using Transfer Learning)\n",
    "* [Step 6](#step6): Write your Algorithm\n",
    "* [Step 7](#step7): Test Your Algorithm\n",
    "\n",
    "---\n",
    "<a id='step0'></a>\n",
    "## Step 0: Import Datasets\n",
    "\n",
    "### Import Dog Dataset\n",
    "\n",
    "In the code cell below, we import a dataset of dog images.  We populate a few variables through the use of the `load_files` function from the scikit-learn library:\n",
    "- `train_files`, `valid_files`, `test_files` - numpy arrays containing file paths to images\n",
    "- `train_targets`, `valid_targets`, `test_targets` - numpy arrays containing onehot-encoded classification labels \n",
    "- `dog_names` - list of string-valued dog breed names for translating labels"
   ]
  },
  {
   "cell_type": "markdown",
   "metadata": {},
   "source": [
    "config = tf.ConfigProto( device_count = {'GPU': 1 , 'CPU': 8} ) \n",
    "sess = tf.Session(config=config) \n",
    "keras.backend.set_session(sess)"
   ]
  },
  {
   "cell_type": "code",
   "execution_count": 1,
   "metadata": {},
   "outputs": [
    {
     "name": "stderr",
     "output_type": "stream",
     "text": [
      "Using TensorFlow backend.\n"
     ]
    }
   ],
   "source": [
    "from sklearn.datasets import load_files       \n",
    "# import tensorflow\n",
    "from keras.utils import np_utils\n",
    "import numpy as np\n",
    "from glob import glob"
   ]
  },
  {
   "cell_type": "code",
   "execution_count": 2,
   "metadata": {},
   "outputs": [
    {
     "name": "stdout",
     "output_type": "stream",
     "text": [
      "There are 133 total dog categories.\n",
      "There are 8351 total dog images.\n",
      "\n",
      "There are 6680 training dog images.\n",
      "There are 835 validation dog images.\n",
      "There are 836 test dog images.\n"
     ]
    }
   ],
   "source": [
    "\n",
    "\n",
    "# define function to load train, test, and validation datasets\n",
    "def load_dataset(path):\n",
    "    data = load_files(path)\n",
    "    dog_files = np.array(data['filenames'])\n",
    "    dog_targets = np_utils.to_categorical(np.array(data['target']), 133)\n",
    "    return dog_files, dog_targets\n",
    "\n",
    "# load train, test, and validation datasets\n",
    "train_files, train_targets = load_dataset('dogImages/train')\n",
    "valid_files, valid_targets = load_dataset('dogImages/valid')\n",
    "test_files, test_targets = load_dataset('dogImages/test')\n",
    "\n",
    "# load list of dog names\n",
    "dog_names = [item[20:-1] for item in sorted(glob(\"dogImages/train/*/\"))]\n",
    "\n",
    "# print statistics about the dataset\n",
    "print('There are %d total dog categories.' % len(dog_names))\n",
    "print('There are %s total dog images.\\n' % len(np.hstack([train_files, valid_files, test_files])))\n",
    "print('There are %d training dog images.' % len(train_files))\n",
    "print('There are %d validation dog images.' % len(valid_files))\n",
    "print('There are %d test dog images.'% len(test_files))"
   ]
  },
  {
   "cell_type": "code",
   "execution_count": 7,
   "metadata": {},
   "outputs": [
    {
     "data": {
      "text/plain": [
       "array([94, 56, 87, ..., 28, 45, 47])"
      ]
     },
     "execution_count": 7,
     "metadata": {},
     "output_type": "execute_result"
    }
   ],
   "source": [
    "data.target"
   ]
  },
  {
   "cell_type": "code",
   "execution_count": 8,
   "metadata": {},
   "outputs": [
    {
     "data": {
      "text/plain": [
       "array(['dogImages/train/095.Kuvasz/Kuvasz_06442.jpg',\n",
       "       'dogImages/train/057.Dalmatian/Dalmatian_04054.jpg',\n",
       "       'dogImages/train/088.Irish_water_spaniel/Irish_water_spaniel_06014.jpg',\n",
       "       ..., 'dogImages/train/029.Border_collie/Border_collie_02069.jpg',\n",
       "       'dogImages/train/046.Cavalier_king_charles_spaniel/Cavalier_king_charles_spaniel_03261.jpg',\n",
       "       'dogImages/train/048.Chihuahua/Chihuahua_03416.jpg'], dtype='<U99')"
      ]
     },
     "execution_count": 8,
     "metadata": {},
     "output_type": "execute_result"
    }
   ],
   "source": [
    "data.filenames"
   ]
  },
  {
   "cell_type": "markdown",
   "metadata": {},
   "source": [
    "### Import Human Dataset\n",
    "\n",
    "In the code cell below, we import a dataset of human images, where the file paths are stored in the numpy array `human_files`."
   ]
  },
  {
   "cell_type": "code",
   "execution_count": 3,
   "metadata": {},
   "outputs": [
    {
     "name": "stdout",
     "output_type": "stream",
     "text": [
      "There are 13233 total human images.\n"
     ]
    }
   ],
   "source": [
    "import random\n",
    "random.seed(8675309)\n",
    "\n",
    "# load filenames in shuffled human dataset\n",
    "human_files = np.array(glob(\"lfw/*/*\"))\n",
    "random.shuffle(human_files)\n",
    "\n",
    "# print statistics about the dataset\n",
    "print('There are %d total human images.' % len(human_files))"
   ]
  },
  {
   "cell_type": "markdown",
   "metadata": {},
   "source": [
    "---\n",
    "<a id='step1'></a>\n",
    "## Step 1: Detect Humans\n",
    "\n",
    "We use OpenCV's implementation of [Haar feature-based cascade classifiers](http://docs.opencv.org/trunk/d7/d8b/tutorial_py_face_detection.html) to detect human faces in images.  OpenCV provides many pre-trained face detectors, stored as XML files on [github](https://github.com/opencv/opencv/tree/master/data/haarcascades).  We have downloaded one of these detectors and stored it in the `haarcascades` directory.\n",
    "\n",
    "In the next code cell, we demonstrate how to use this detector to find human faces in a sample image."
   ]
  },
  {
   "cell_type": "code",
   "execution_count": 4,
   "metadata": {},
   "outputs": [
    {
     "ename": "ModuleNotFoundError",
     "evalue": "No module named 'cv2'",
     "output_type": "error",
     "traceback": [
      "\u001b[0;31m---------------------------------------------------------------------------\u001b[0m",
      "\u001b[0;31mModuleNotFoundError\u001b[0m                       Traceback (most recent call last)",
      "\u001b[0;32m<ipython-input-4-4ca3cc1ffee7>\u001b[0m in \u001b[0;36m<module>\u001b[0;34m()\u001b[0m\n\u001b[0;32m----> 1\u001b[0;31m \u001b[0;32mimport\u001b[0m \u001b[0mcv2\u001b[0m\u001b[0;34m\u001b[0m\u001b[0m\n\u001b[0m\u001b[1;32m      2\u001b[0m \u001b[0;32mimport\u001b[0m \u001b[0mmatplotlib\u001b[0m\u001b[0;34m.\u001b[0m\u001b[0mpyplot\u001b[0m \u001b[0;32mas\u001b[0m \u001b[0mplt\u001b[0m\u001b[0;34m\u001b[0m\u001b[0m\n\u001b[1;32m      3\u001b[0m \u001b[0mget_ipython\u001b[0m\u001b[0;34m(\u001b[0m\u001b[0;34m)\u001b[0m\u001b[0;34m.\u001b[0m\u001b[0mrun_line_magic\u001b[0m\u001b[0;34m(\u001b[0m\u001b[0;34m'matplotlib'\u001b[0m\u001b[0;34m,\u001b[0m \u001b[0;34m'inline'\u001b[0m\u001b[0;34m)\u001b[0m\u001b[0;34m\u001b[0m\u001b[0m\n\u001b[1;32m      4\u001b[0m \u001b[0;34m\u001b[0m\u001b[0m\n\u001b[1;32m      5\u001b[0m \u001b[0;31m# extract pre-trained face detector\u001b[0m\u001b[0;34m\u001b[0m\u001b[0;34m\u001b[0m\u001b[0m\n",
      "\u001b[0;31mModuleNotFoundError\u001b[0m: No module named 'cv2'"
     ]
    }
   ],
   "source": [
    "import cv2                \n",
    "import matplotlib.pyplot as plt                        \n",
    "%matplotlib inline                               \n",
    "\n",
    "# extract pre-trained face detector\n",
    "face_cascade = cv2.CascadeClassifier('haarcascades/haarcascade_frontalface_alt.xml')\n",
    "\n",
    "# load color (BGR) image\n",
    "img = cv2.imread(human_files[111])\n",
    "# convert BGR image to grayscale\n",
    "gray = cv2.cvtColor(img, cv2.COLOR_BGR2GRAY)\n",
    "\n",
    "# find faces in image\n",
    "faces = face_cascade.detectMultiScale(gray)\n",
    "\n",
    "# print number of faces detected in the image\n",
    "print('Number of faces detected:', len(faces))\n",
    "\n",
    "# get bounding box for each detected face\n",
    "for (x,y,w,h) in faces:\n",
    "    # add bounding box to color image\n",
    "    cv2.rectangle(img,(x,y),(x+w,y+h),(255,0,0),2)\n",
    "    print(x, y, w, h)\n",
    "    \n",
    "# convert BGR image to RGB for plotting\n",
    "cv_rgb = cv2.cvtColor(img, cv2.COLOR_BGR2RGB)\n",
    "\n",
    "# display the image, along with bounding box\n",
    "plt.imshow(cv_rgb)\n",
    "plt.show()"
   ]
  },
  {
   "cell_type": "markdown",
   "metadata": {},
   "source": [
    "Before using any of the face detectors, it is standard procedure to convert the images to grayscale.  The `detectMultiScale` function executes the classifier stored in `face_cascade` and takes the grayscale image as a parameter.  \n",
    "\n",
    "In the above code, `faces` is a numpy array of detected faces, where each row corresponds to a detected face.  Each detected face is a 1D array with four entries that specifies the bounding box of the detected face.  The first two entries in the array (extracted in the above code as `x` and `y`) specify the horizontal and vertical positions of the top left corner of the bounding box.  The last two entries in the array (extracted here as `w` and `h`) specify the width and height of the box.\n",
    "\n",
    "### Write a Human Face Detector\n",
    "\n",
    "We can use this procedure to write a function that returns `True` if a human face is detected in an image and `False` otherwise.  This function, aptly named `face_detector`, takes a string-valued file path to an image as input and appears in the code block below."
   ]
  },
  {
   "cell_type": "code",
   "execution_count": 7,
   "metadata": {},
   "outputs": [],
   "source": [
    "# returns \"True\" if face is detected in image stored at img_path\n",
    "def face_detector(img_path):\n",
    "    img = cv2.imread(img_path)\n",
    "    gray = cv2.cvtColor(img, cv2.COLOR_BGR2GRAY)\n",
    "    faces = face_cascade.detectMultiScale(gray)\n",
    "    return len(faces) > 0"
   ]
  },
  {
   "cell_type": "markdown",
   "metadata": {},
   "source": [
    "### (IMPLEMENTATION) Assess the Human Face Detector\n",
    "\n",
    "__Question 1:__ Use the code cell below to test the performance of the `face_detector` function.  \n",
    "- What percentage of the first 100 images in `human_files` have a detected human face?  \n",
    "- What percentage of the first 100 images in `dog_files` have a detected human face? \n",
    "\n",
    "Ideally, we would like 100% of human images with a detected face and 0% of dog images with a detected face.  You will see that our algorithm falls short of this goal, but still gives acceptable performance.  We extract the file paths for the first 100 images from each of the datasets and store them in the numpy arrays `human_files_short` and `dog_files_short`.\n",
    "\n",
    "__Answer:__ "
   ]
  },
  {
   "cell_type": "code",
   "execution_count": 8,
   "metadata": {},
   "outputs": [
    {
     "data": {
      "text/plain": [
       "True"
      ]
     },
     "execution_count": 8,
     "metadata": {},
     "output_type": "execute_result"
    }
   ],
   "source": [
    "face_detector('lfw/Shia_LaBeouf/Shia_LaBeouf_0001.jpg')"
   ]
  },
  {
   "cell_type": "code",
   "execution_count": 4,
   "metadata": {},
   "outputs": [],
   "source": [
    "# import random\n",
    "# random.shuffle(human_files)\n",
    "# random.shuffle(train_files)\n",
    "\n",
    "human_files_short = human_files[:100]\n",
    "dog_files_short = train_files[:100]\n",
    "\n",
    "# Do NOT modify the code above this line.\n"
   ]
  },
  {
   "cell_type": "markdown",
   "metadata": {},
   "source": [
    "\n",
    "## TODO: Test the performance of the face_detector algorithm \n",
    "## on the images in human_files_short and dog_files_short.\n",
    "human_pred = list()\n",
    "dog_pred = list()\n",
    "for h in human_files_short:\n",
    "    out = face_detector(h)\n",
    "    human_pred.append(out)\n",
    "    \n",
    "for d in dog_files_short:\n",
    "    out = face_detector(d)\n",
    "    dog_pred.append(out)\n",
    "    \n",
    "print(\"Human face detected in human directory: \"+str(sum(human_pred))+\"%\")\n",
    "print(\"Human face detected in dog directory: \"+str(sum(dog_pred))+\"%\")"
   ]
  },
  {
   "cell_type": "markdown",
   "metadata": {},
   "source": [
    "__Question 2:__ This algorithmic choice necessitates that we communicate to the user that we accept human images only when they provide a clear view of a face (otherwise, we risk having unneccessarily frustrated users!). In your opinion, is this a reasonable expectation to pose on the user? If not, can you think of a way to detect humans in images that does not necessitate an image with a clearly presented face?\n",
    "\n",
    "__Answer:__\n",
    "\n",
    "We suggest the face detector from OpenCV as a potential way to detect human images in your algorithm, but you are free to explore other approaches, especially approaches that make use of deep learning :).  Please use the code cell below to design and test your own face detection algorithm.  If you decide to pursue this _optional_ task, report performance on each of the datasets."
   ]
  },
  {
   "cell_type": "code",
   "execution_count": 10,
   "metadata": {},
   "outputs": [],
   "source": [
    "## (Optional) TODO: Report the performance of another  \n",
    "## face detection algorithm on the LFW dataset\n",
    "### Feel free to use as many code cells as needed."
   ]
  },
  {
   "cell_type": "markdown",
   "metadata": {},
   "source": [
    "---\n",
    "<a id='step2'></a>\n",
    "## Step 2: Detect Dogs\n",
    "\n",
    "In this section, we use a pre-trained [ResNet-50](http://ethereon.github.io/netscope/#/gist/db945b393d40bfa26006) model to detect dogs in images.  Our first line of code downloads the ResNet-50 model, along with weights that have been trained on [ImageNet](http://www.image-net.org/), a very large, very popular dataset used for image classification and other vision tasks.  ImageNet contains over 10 million URLs, each linking to an image containing an object from one of [1000 categories](https://gist.github.com/yrevar/942d3a0ac09ec9e5eb3a).  Given an image, this pre-trained ResNet-50 model returns a prediction (derived from the available categories in ImageNet) for the object that is contained in the image."
   ]
  },
  {
   "cell_type": "code",
   "execution_count": 5,
   "metadata": {},
   "outputs": [],
   "source": [
    "from keras.applications.resnet50 import ResNet50\n",
    "\n",
    "# define ResNet50 model\n",
    "ResNet50_model = ResNet50(weights='imagenet')"
   ]
  },
  {
   "cell_type": "markdown",
   "metadata": {},
   "source": [
    "#### Stored the Resnet50 model"
   ]
  },
  {
   "cell_type": "markdown",
   "metadata": {},
   "source": [
    "from keras.models import load_model\n",
    "# ResNet50_model.save('resnet50.h5')  # creates a HDF5 file 'my_model.h5'\n",
    "\n",
    "# returns a compiled model\n",
    "# identical to the previous one\n",
    "ResNet50_model = load_model('resnet50.h5')"
   ]
  },
  {
   "cell_type": "markdown",
   "metadata": {},
   "source": [
    "### Pre-process the Data\n",
    "\n",
    "When using TensorFlow as backend, Keras CNNs require a 4D array (which we'll also refer to as a 4D tensor) as input, with shape\n",
    "\n",
    "$$\n",
    "(\\text{nb_samples}, \\text{rows}, \\text{columns}, \\text{channels}),\n",
    "$$\n",
    "\n",
    "where `nb_samples` corresponds to the total number of images (or samples), and `rows`, `columns`, and `channels` correspond to the number of rows, columns, and channels for each image, respectively.  \n",
    "\n",
    "The `path_to_tensor` function below takes a string-valued file path to a color image as input and returns a 4D tensor suitable for supplying to a Keras CNN.  The function first loads the image and resizes it to a square image that is $224 \\times 224$ pixels.  Next, the image is converted to an array, which is then resized to a 4D tensor.  In this case, since we are working with color images, each image has three channels.  Likewise, since we are processing a single image (or sample), the returned tensor will always have shape\n",
    "\n",
    "$$\n",
    "(1, 224, 224, 3).\n",
    "$$\n",
    "\n",
    "The `paths_to_tensor` function takes a numpy array of string-valued image paths as input and returns a 4D tensor with shape \n",
    "\n",
    "$$\n",
    "(\\text{nb_samples}, 224, 224, 3).\n",
    "$$\n",
    "\n",
    "Here, `nb_samples` is the number of samples, or number of images, in the supplied array of image paths.  It is best to think of `nb_samples` as the number of 3D tensors (where each 3D tensor corresponds to a different image) in your dataset!"
   ]
  },
  {
   "cell_type": "code",
   "execution_count": 12,
   "metadata": {},
   "outputs": [],
   "source": [
    "from keras.preprocessing import image                  \n",
    "from tqdm import tqdm\n",
    "\n",
    "def path_to_tensor(img_path):\n",
    "    # loads RGB image as PIL.Image.Image type\n",
    "    img = image.load_img(img_path, target_size=(224, 224))\n",
    "    # convert PIL.Image.Image type to 3D tensor with shape (224, 224, 3)\n",
    "    x = image.img_to_array(img)\n",
    "    # convert 3D tensor to 4D tensor with shape (1, 224, 224, 3) and return 4D tensor\n",
    "#     print(\"end of path to tensor\")\n",
    "    return np.expand_dims(x, axis=0)\n",
    "\n",
    "def paths_to_tensor(img_paths):\n",
    "    list_of_tensors = [path_to_tensor(img_path) for img_path in tqdm(img_paths)]\n",
    "    return np.vstack(list_of_tensors)"
   ]
  },
  {
   "cell_type": "markdown",
   "metadata": {},
   "source": [
    "### Making Predictions with ResNet-50\n",
    "\n",
    "Getting the 4D tensor ready for ResNet-50, and for any other pre-trained model in Keras, requires some additional processing.  First, the RGB image is converted to BGR by reordering the channels.  All pre-trained models have the additional normalization step that the mean pixel (expressed in RGB as $[103.939, 116.779, 123.68]$ and calculated from all pixels in all images in ImageNet) must be subtracted from every pixel in each image.  This is implemented in the imported function `preprocess_input`.  If you're curious, you can check the code for `preprocess_input` [here](https://github.com/fchollet/keras/blob/master/keras/applications/imagenet_utils.py).\n",
    "\n",
    "Now that we have a way to format our image for supplying to ResNet-50, we are now ready to use the model to extract the predictions.  This is accomplished with the `predict` method, which returns an array whose $i$-th entry is the model's predicted probability that the image belongs to the $i$-th ImageNet category.  This is implemented in the `ResNet50_predict_labels` function below.\n",
    "\n",
    "By taking the argmax of the predicted probability vector, we obtain an integer corresponding to the model's predicted object class, which we can identify with an object category through the use of this [dictionary](https://gist.github.com/yrevar/942d3a0ac09ec9e5eb3a). "
   ]
  },
  {
   "cell_type": "code",
   "execution_count": 8,
   "metadata": {},
   "outputs": [],
   "source": [
    "from keras.applications.resnet50 import preprocess_input, decode_predictions\n",
    "\n",
    "def ResNet50_predict_labels(img_path):\n",
    "#     print(\"inside resnet50\")\n",
    "    # returns prediction vector for image located at img_path\n",
    "    img = preprocess_input(path_to_tensor(img_path))\n",
    "#     print(\"inside resnet50 after img\")\n",
    "#     print(img.shape)\n",
    "    pred = ResNet50_model.predict(img)\n",
    "#     print(\"inside resnet50 after pred\")\n",
    "    lab_max = np.argmax(pred)\n",
    "#     print(\"inside resnet50 after lab_max\")\n",
    "    return lab_max"
   ]
  },
  {
   "cell_type": "markdown",
   "metadata": {},
   "source": [
    "### Write a Dog Detector\n",
    "\n",
    "While looking at the [dictionary](https://gist.github.com/yrevar/942d3a0ac09ec9e5eb3a), you will notice that the categories corresponding to dogs appear in an uninterrupted sequence and correspond to dictionary keys 151-268, inclusive, to include all categories from `'Chihuahua'` to `'Mexican hairless'`.  Thus, in order to check to see if an image is predicted to contain a dog by the pre-trained ResNet-50 model, we need only check if the `ResNet50_predict_labels` function above returns a value between 151 and 268 (inclusive).\n",
    "\n",
    "We use these ideas to complete the `dog_detector` function below, which returns `True` if a dog is detected in an image (and `False` if not)."
   ]
  },
  {
   "cell_type": "code",
   "execution_count": 9,
   "metadata": {},
   "outputs": [],
   "source": [
    "### returns \"True\" if a dog is detected in the image stored at img_path\n",
    "def dog_detector(img_path):    \n",
    "#     print(\"inside dog detector\")\n",
    "    prediction = ResNet50_predict_labels(img_path)\n",
    "    return ((prediction <= 268) & (prediction >= 151)) "
   ]
  },
  {
   "cell_type": "markdown",
   "metadata": {},
   "source": [
    "### (IMPLEMENTATION) Assess the Dog Detector\n",
    "\n",
    "__Question 3:__ Use the code cell below to test the performance of your `dog_detector` function.  \n",
    "- What percentage of the images in `human_files_short` have a detected dog?  \n",
    "- What percentage of the images in `dog_files_short` have a detected dog?\n",
    "\n",
    "__Answer:__ "
   ]
  },
  {
   "cell_type": "code",
   "execution_count": 10,
   "metadata": {},
   "outputs": [
    {
     "name": "stdout",
     "output_type": "stream",
     "text": [
      "Before the human loop\n",
      "0:lfw/Jennifer_Garner/Jennifer_Garner_0003.jpg: False\n",
      "10:lfw/Ramon_Delgado/Ramon_Delgado_0001.jpg: False\n",
      "20:lfw/Jean_Chretien/Jean_Chretien_0026.jpg: False\n",
      "30:lfw/Amelia_Vega/Amelia_Vega_0006.jpg: False\n",
      "40:lfw/Robin_Cook/Robin_Cook_0002.jpg: False\n",
      "50:lfw/Rio_Ferdinand/Rio_Ferdinand_0002.jpg: False\n",
      "60:lfw/Vidar_Helgesen/Vidar_Helgesen_0001.jpg: False\n",
      "70:lfw/Latrell_Sprewell/Latrell_Sprewell_0002.jpg: False\n",
      "80:lfw/Tony_Blair/Tony_Blair_0122.jpg: False\n",
      "90:lfw/Monique_Garbrecht-Enfeldt/Monique_Garbrecht-Enfeldt_0003.jpg: False\n",
      "Dog face detected in human directory: 1%\n",
      "Dog face detected in Dog directory: 100%\n"
     ]
    }
   ],
   "source": [
    "### TODO: Test the performance of the dog_detector function\n",
    "### on the images in human_files_short and dog_files_short.\n",
    "\n",
    "human_pred = list()\n",
    "dog_pred = list()\n",
    "print(\"Before the human loop\")\n",
    "for i, h in enumerate(human_files_short):\n",
    "    out = dog_detector(h)\n",
    "#     print(out)\n",
    "    human_pred.append(out)    \n",
    "    if i%10 == 0:\n",
    "        print(str(i)+\":\"+h+\": \"+str(out))\n",
    "    \n",
    "for d in dog_files_short:\n",
    "    out = dog_detector(d)\n",
    "    dog_pred.append(out)\n",
    "    \n",
    "print(\"Dog face detected in human directory: \"+str(sum(human_pred))+\"%\")\n",
    "print(\"Dog face detected in Dog directory: \"+str(sum(dog_pred))+\"%\")\n"
   ]
  },
  {
   "cell_type": "markdown",
   "metadata": {},
   "source": [
    "---\n",
    "<a id='step3'></a>\n",
    "## Step 3: Create a CNN to Classify Dog Breeds (from Scratch)\n",
    "\n",
    "Now that we have functions for detecting humans and dogs in images, we need a way to predict breed from images.  In this step, you will create a CNN that classifies dog breeds.  You must create your CNN _from scratch_ (so, you can't use transfer learning _yet_!), and you must attain a test accuracy of at least 1%.  In Step 5 of this notebook, you will have the opportunity to use transfer learning to create a CNN that attains greatly improved accuracy.\n",
    "\n",
    "Be careful with adding too many trainable layers!  More parameters means longer training, which means you are more likely to need a GPU to accelerate the training process.  Thankfully, Keras provides a handy estimate of the time that each epoch is likely to take; you can extrapolate this estimate to figure out how long it will take for your algorithm to train. \n",
    "\n",
    "We mention that the task of assigning breed to dogs from images is considered exceptionally challenging.  To see why, consider that *even a human* would have great difficulty in distinguishing between a Brittany and a Welsh Springer Spaniel.  \n",
    "\n",
    "Brittany | Welsh Springer Spaniel\n",
    "- | - \n",
    "<img src=\"images/Brittany_02625.jpg\" width=\"100\"> | <img src=\"images/Welsh_springer_spaniel_08203.jpg\" width=\"200\">\n",
    "\n",
    "It is not difficult to find other dog breed pairs with minimal inter-class variation (for instance, Curly-Coated Retrievers and American Water Spaniels).  \n",
    "\n",
    "Curly-Coated Retriever | American Water Spaniel\n",
    "- | -\n",
    "<img src=\"images/Curly-coated_retriever_03896.jpg\" width=\"200\"> | <img src=\"images/American_water_spaniel_00648.jpg\" width=\"200\">\n",
    "\n",
    "\n",
    "Likewise, recall that labradors come in yellow, chocolate, and black.  Your vision-based algorithm will have to conquer this high intra-class variation to determine how to classify all of these different shades as the same breed.  \n",
    "\n",
    "Yellow Labrador | Chocolate Labrador | Black Labrador\n",
    "- | -\n",
    "<img src=\"images/Labrador_retriever_06457.jpg\" width=\"150\"> | <img src=\"images/Labrador_retriever_06455.jpg\" width=\"240\"> | <img src=\"images/Labrador_retriever_06449.jpg\" width=\"220\">\n",
    "\n",
    "We also mention that random chance presents an exceptionally low bar: setting aside the fact that the classes are slightly imabalanced, a random guess will provide a correct answer roughly 1 in 133 times, which corresponds to an accuracy of less than 1%.  \n",
    "\n",
    "Remember that the practice is far ahead of the theory in deep learning.  Experiment with many different architectures, and trust your intuition.  And, of course, have fun! \n",
    "\n",
    "### Pre-process the Data\n",
    "\n",
    "We rescale the images by dividing every pixel in every image by 255."
   ]
  },
  {
   "cell_type": "code",
   "execution_count": 11,
   "metadata": {},
   "outputs": [],
   "source": [
    "from PIL import ImageFile                            \n",
    "ImageFile.LOAD_TRUNCATED_IMAGES = True   "
   ]
  },
  {
   "cell_type": "code",
   "execution_count": 14,
   "metadata": {},
   "outputs": [
    {
     "name": "stderr",
     "output_type": "stream",
     "text": [
      "100%|██████████| 6680/6680 [00:54<00:00, 121.64it/s]\n",
      "100%|██████████| 835/835 [00:06<00:00, 134.65it/s]\n",
      "100%|██████████| 836/836 [00:06<00:00, 135.64it/s]\n"
     ]
    }
   ],
   "source": [
    "from PIL import ImageFile                            \n",
    "ImageFile.LOAD_TRUNCATED_IMAGES = True                 \n",
    "\n",
    "# pre-process the data for Keras\n",
    "train_tensors = paths_to_tensor(train_files).astype('float32')/255\n",
    "valid_tensors = paths_to_tensor(valid_files).astype('float32')/255\n",
    "test_tensors = paths_to_tensor(test_files).astype('float32')/255"
   ]
  },
  {
   "cell_type": "markdown",
   "metadata": {},
   "source": [
    "### (IMPLEMENTATION) Model Architecture\n",
    "\n",
    "Create a CNN to classify dog breed.  At the end of your code cell block, summarize the layers of your model by executing the line:\n",
    "    \n",
    "        model.summary()\n",
    "\n",
    "We have imported some Python modules to get you started, but feel free to import as many modules as you need.  If you end up getting stuck, here's a hint that specifies a model that trains relatively fast on CPU and attains >1% test accuracy in 5 epochs:\n",
    "\n",
    "![Sample CNN](images/sample_cnn.png)\n",
    "           \n",
    "__Question 4:__ Outline the steps you took to get to your final CNN architecture and your reasoning at each step.  If you chose to use the hinted architecture above, describe why you think that CNN architecture should work well for the image classification task.\n",
    "\n",
    "__Answer:__ "
   ]
  },
  {
   "cell_type": "code",
   "execution_count": 14,
   "metadata": {},
   "outputs": [],
   "source": [
    "from keras.layers import Conv2D, MaxPooling2D, GlobalAveragePooling2D\n",
    "from keras.layers import Dropout, Flatten, Dense\n",
    "from keras.models import Sequential\n",
    "from keras.callbacks import ModelCheckpoint  \n"
   ]
  },
  {
   "cell_type": "code",
   "execution_count": 15,
   "metadata": {},
   "outputs": [
    {
     "name": "stdout",
     "output_type": "stream",
     "text": [
      "_________________________________________________________________\n",
      "Layer (type)                 Output Shape              Param #   \n",
      "=================================================================\n",
      "conv2d_1 (Conv2D)            (None, 224, 224, 16)      208       \n",
      "_________________________________________________________________\n",
      "max_pooling2d_2 (MaxPooling2 (None, 112, 112, 16)      0         \n",
      "_________________________________________________________________\n",
      "conv2d_2 (Conv2D)            (None, 112, 112, 32)      2080      \n",
      "_________________________________________________________________\n",
      "max_pooling2d_3 (MaxPooling2 (None, 56, 56, 32)        0         \n",
      "_________________________________________________________________\n",
      "conv2d_3 (Conv2D)            (None, 56, 56, 64)        8256      \n",
      "_________________________________________________________________\n",
      "max_pooling2d_4 (MaxPooling2 (None, 28, 28, 64)        0         \n",
      "_________________________________________________________________\n",
      "global_average_pooling2d_1 ( (None, 64)                0         \n",
      "_________________________________________________________________\n",
      "dense_1 (Dense)              (None, 133)               8645      \n",
      "=================================================================\n",
      "Total params: 19,189\n",
      "Trainable params: 19,189\n",
      "Non-trainable params: 0\n",
      "_________________________________________________________________\n"
     ]
    }
   ],
   "source": [
    "\n",
    "model = Sequential()\n",
    "\n",
    "### TODO: Define your architecture.\n",
    "model.add(Conv2D(filters=16, kernel_size=2, padding='same', activation='relu', input_shape=(224, 224,3)))\n",
    "model.add(MaxPooling2D(pool_size=2))\n",
    "model.add(Conv2D(filters=32, kernel_size=2, padding='same', activation='relu'))\n",
    "model.add(MaxPooling2D(pool_size=2))\n",
    "model.add(Conv2D(filters=64, kernel_size=2, padding='same', activation='relu'))\n",
    "model.add(MaxPooling2D(pool_size=2))\n",
    "model.add(GlobalAveragePooling2D())\n",
    "\n",
    "# model.add(Flatten())\n",
    "model.add(Dense(133, activation='softmax' ))\n",
    "\n",
    "model.summary()"
   ]
  },
  {
   "cell_type": "markdown",
   "metadata": {},
   "source": [
    "### Compile the Model"
   ]
  },
  {
   "cell_type": "code",
   "execution_count": 16,
   "metadata": {},
   "outputs": [],
   "source": [
    "model.compile(optimizer='rmsprop', loss='categorical_crossentropy', metrics=['accuracy'])"
   ]
  },
  {
   "cell_type": "markdown",
   "metadata": {},
   "source": [
    "### (IMPLEMENTATION) Train the Model\n",
    "\n",
    "Train your model in the code cell below.  Use model checkpointing to save the model that attains the best validation loss.\n",
    "\n",
    "You are welcome to [augment the training data](https://blog.keras.io/building-powerful-image-classification-models-using-very-little-data.html), but this is not a requirement. "
   ]
  },
  {
   "cell_type": "code",
   "execution_count": 17,
   "metadata": {},
   "outputs": [
    {
     "name": "stdout",
     "output_type": "stream",
     "text": [
      "Train on 6680 samples, validate on 835 samples\n",
      "Epoch 1/5\n",
      "6680/6680 [==============================] - 7s 995us/step - loss: 4.8838 - acc: 0.0097 - val_loss: 4.8684 - val_acc: 0.0144\n",
      "\n",
      "Epoch 00001: val_loss improved from inf to 4.86839, saving model to saved_models/weights.best.from_scratch.hdf5\n",
      "Epoch 2/5\n",
      "6680/6680 [==============================] - 6s 862us/step - loss: 4.8569 - acc: 0.0163 - val_loss: 4.8395 - val_acc: 0.0204\n",
      "\n",
      "Epoch 00002: val_loss improved from 4.86839 to 4.83950, saving model to saved_models/weights.best.from_scratch.hdf5\n",
      "Epoch 3/5\n",
      "6680/6680 [==============================] - 6s 857us/step - loss: 4.8159 - acc: 0.0169 - val_loss: 4.8120 - val_acc: 0.0216\n",
      "\n",
      "Epoch 00003: val_loss improved from 4.83950 to 4.81195, saving model to saved_models/weights.best.from_scratch.hdf5\n",
      "Epoch 4/5\n",
      "6680/6680 [==============================] - 6s 865us/step - loss: 4.7866 - acc: 0.0189 - val_loss: 4.8041 - val_acc: 0.0216\n",
      "\n",
      "Epoch 00004: val_loss improved from 4.81195 to 4.80407, saving model to saved_models/weights.best.from_scratch.hdf5\n",
      "Epoch 5/5\n",
      "6680/6680 [==============================] - 6s 840us/step - loss: 4.7586 - acc: 0.0205 - val_loss: 4.7706 - val_acc: 0.0251\n",
      "\n",
      "Epoch 00005: val_loss improved from 4.80407 to 4.77064, saving model to saved_models/weights.best.from_scratch.hdf5\n"
     ]
    },
    {
     "data": {
      "text/plain": [
       "<keras.callbacks.History at 0x7f98106ba470>"
      ]
     },
     "execution_count": 17,
     "metadata": {},
     "output_type": "execute_result"
    }
   ],
   "source": [
    "from keras.callbacks import ModelCheckpoint  \n",
    "\n",
    "### TODO: specify the number of epochs that you would like to use to train the model.\n",
    "\n",
    "epochs = 5\n",
    "\n",
    "### Do NOT modify the code below this line.\n",
    "\n",
    "checkpointer = ModelCheckpoint(filepath='saved_models/weights.best.from_scratch.hdf5', \n",
    "                               verbose=1, save_best_only=True)\n",
    "\n",
    "model.fit(train_tensors, train_targets, \n",
    "          validation_data=(valid_tensors, valid_targets),\n",
    "          epochs=epochs, batch_size=20, callbacks=[checkpointer], verbose=1)"
   ]
  },
  {
   "cell_type": "markdown",
   "metadata": {},
   "source": [
    "### Load the Model with the Best Validation Loss"
   ]
  },
  {
   "cell_type": "code",
   "execution_count": 18,
   "metadata": {},
   "outputs": [],
   "source": [
    "model.load_weights('saved_models/weights.best.from_scratch.hdf5')"
   ]
  },
  {
   "cell_type": "markdown",
   "metadata": {},
   "source": [
    "### Test the Model\n",
    "\n",
    "Try out your model on the test dataset of dog images.  Ensure that your test accuracy is greater than 1%."
   ]
  },
  {
   "cell_type": "code",
   "execution_count": 19,
   "metadata": {},
   "outputs": [
    {
     "name": "stdout",
     "output_type": "stream",
     "text": [
      "Test accuracy: 2.1531%\n"
     ]
    }
   ],
   "source": [
    "# get index of predicted dog breed for each image in test set\n",
    "dog_breed_predictions = [np.argmax(model.predict(np.expand_dims(tensor, axis=0))) for tensor in test_tensors]\n",
    "\n",
    "# report test accuracy\n",
    "test_accuracy = 100*np.sum(np.array(dog_breed_predictions)==np.argmax(test_targets, axis=1))/len(dog_breed_predictions)\n",
    "print('Test accuracy: %.4f%%' % test_accuracy)"
   ]
  },
  {
   "cell_type": "markdown",
   "metadata": {},
   "source": [
    "---\n",
    "<a id='step4'></a>\n",
    "## Step 4: Use a CNN to Classify Dog Breeds\n",
    "\n",
    "To reduce training time without sacrificing accuracy, we show you how to train a CNN using transfer learning.  In the following step, you will get a chance to use transfer learning to train your own CNN.\n",
    "\n",
    "### Obtain Bottleneck Features"
   ]
  },
  {
   "cell_type": "code",
   "execution_count": 20,
   "metadata": {},
   "outputs": [],
   "source": [
    "bottleneck_features = np.load('bottleneck_features/DogVGG16Data.npz')\n",
    "train_VGG16 = bottleneck_features['train']\n",
    "valid_VGG16 = bottleneck_features['valid']\n",
    "test_VGG16 = bottleneck_features['test']"
   ]
  },
  {
   "cell_type": "markdown",
   "metadata": {},
   "source": [
    "### Model Architecture\n",
    "\n",
    "The model uses the the pre-trained VGG-16 model as a fixed feature extractor, where the last convolutional output of VGG-16 is fed as input to our model.  We only add a global average pooling layer and a fully connected layer, where the latter contains one node for each dog category and is equipped with a softmax."
   ]
  },
  {
   "cell_type": "code",
   "execution_count": 21,
   "metadata": {},
   "outputs": [
    {
     "name": "stdout",
     "output_type": "stream",
     "text": [
      "_________________________________________________________________\n",
      "Layer (type)                 Output Shape              Param #   \n",
      "=================================================================\n",
      "global_average_pooling2d_2 ( (None, 512)               0         \n",
      "_________________________________________________________________\n",
      "dense_2 (Dense)              (None, 133)               68229     \n",
      "=================================================================\n",
      "Total params: 68,229\n",
      "Trainable params: 68,229\n",
      "Non-trainable params: 0\n",
      "_________________________________________________________________\n"
     ]
    }
   ],
   "source": [
    "VGG16_model = Sequential()\n",
    "VGG16_model.add(GlobalAveragePooling2D(input_shape=train_VGG16.shape[1:]))\n",
    "VGG16_model.add(Dense(133, activation='softmax'))\n",
    "\n",
    "VGG16_model.summary()"
   ]
  },
  {
   "cell_type": "markdown",
   "metadata": {},
   "source": [
    "### Compile the Model"
   ]
  },
  {
   "cell_type": "code",
   "execution_count": 22,
   "metadata": {},
   "outputs": [],
   "source": [
    "VGG16_model.compile(loss='categorical_crossentropy', optimizer='rmsprop', metrics=['accuracy'])"
   ]
  },
  {
   "cell_type": "markdown",
   "metadata": {},
   "source": [
    "### Train the Model"
   ]
  },
  {
   "cell_type": "code",
   "execution_count": 23,
   "metadata": {
    "scrolled": true
   },
   "outputs": [
    {
     "name": "stdout",
     "output_type": "stream",
     "text": [
      "Train on 6680 samples, validate on 835 samples\n",
      "Epoch 1/20\n",
      "6680/6680 [==============================] - 2s 259us/step - loss: 12.0377 - acc: 0.1284 - val_loss: 10.4702 - val_acc: 0.2168\n",
      "\n",
      "Epoch 00001: val_loss improved from inf to 10.47017, saving model to saved_models/weights.best.VGG16.hdf5\n",
      "Epoch 2/20\n",
      "6680/6680 [==============================] - 1s 166us/step - loss: 9.7666 - acc: 0.2991 - val_loss: 9.6439 - val_acc: 0.2898\n",
      "\n",
      "Epoch 00002: val_loss improved from 10.47017 to 9.64394, saving model to saved_models/weights.best.VGG16.hdf5\n",
      "Epoch 3/20\n",
      "6680/6680 [==============================] - 1s 166us/step - loss: 9.1268 - acc: 0.3570 - val_loss: 9.3236 - val_acc: 0.3365\n",
      "\n",
      "Epoch 00003: val_loss improved from 9.64394 to 9.32364, saving model to saved_models/weights.best.VGG16.hdf5\n",
      "Epoch 4/20\n",
      "6680/6680 [==============================] - 1s 166us/step - loss: 8.8279 - acc: 0.4025 - val_loss: 9.3362 - val_acc: 0.3210\n",
      "\n",
      "Epoch 00004: val_loss did not improve from 9.32364\n",
      "Epoch 5/20\n",
      "6680/6680 [==============================] - 1s 166us/step - loss: 8.5853 - acc: 0.4223 - val_loss: 8.9476 - val_acc: 0.3485\n",
      "\n",
      "Epoch 00005: val_loss improved from 9.32364 to 8.94756, saving model to saved_models/weights.best.VGG16.hdf5\n",
      "Epoch 6/20\n",
      "6680/6680 [==============================] - 1s 165us/step - loss: 8.0906 - acc: 0.4521 - val_loss: 8.5442 - val_acc: 0.3617\n",
      "\n",
      "Epoch 00006: val_loss improved from 8.94756 to 8.54419, saving model to saved_models/weights.best.VGG16.hdf5\n",
      "Epoch 7/20\n",
      "6680/6680 [==============================] - 1s 166us/step - loss: 7.8746 - acc: 0.4802 - val_loss: 8.4487 - val_acc: 0.3940\n",
      "\n",
      "Epoch 00007: val_loss improved from 8.54419 to 8.44867, saving model to saved_models/weights.best.VGG16.hdf5\n",
      "Epoch 8/20\n",
      "6680/6680 [==============================] - 1s 167us/step - loss: 7.6406 - acc: 0.4931 - val_loss: 8.1402 - val_acc: 0.4000\n",
      "\n",
      "Epoch 00008: val_loss improved from 8.44867 to 8.14025, saving model to saved_models/weights.best.VGG16.hdf5\n",
      "Epoch 9/20\n",
      "6680/6680 [==============================] - 1s 166us/step - loss: 7.3686 - acc: 0.5133 - val_loss: 8.0107 - val_acc: 0.4108\n",
      "\n",
      "Epoch 00009: val_loss improved from 8.14025 to 8.01066, saving model to saved_models/weights.best.VGG16.hdf5\n",
      "Epoch 10/20\n",
      "6680/6680 [==============================] - 1s 166us/step - loss: 7.0543 - acc: 0.5260 - val_loss: 7.8018 - val_acc: 0.4204\n",
      "\n",
      "Epoch 00010: val_loss improved from 8.01066 to 7.80176, saving model to saved_models/weights.best.VGG16.hdf5\n",
      "Epoch 11/20\n",
      "6680/6680 [==============================] - 1s 166us/step - loss: 6.8271 - acc: 0.5521 - val_loss: 7.5839 - val_acc: 0.4455\n",
      "\n",
      "Epoch 00011: val_loss improved from 7.80176 to 7.58394, saving model to saved_models/weights.best.VGG16.hdf5\n",
      "Epoch 12/20\n",
      "6680/6680 [==============================] - 1s 166us/step - loss: 6.5876 - acc: 0.5630 - val_loss: 7.3600 - val_acc: 0.4611\n",
      "\n",
      "Epoch 00012: val_loss improved from 7.58394 to 7.36003, saving model to saved_models/weights.best.VGG16.hdf5\n",
      "Epoch 13/20\n",
      "6680/6680 [==============================] - 1s 166us/step - loss: 6.4530 - acc: 0.5795 - val_loss: 7.3268 - val_acc: 0.4587\n",
      "\n",
      "Epoch 00013: val_loss improved from 7.36003 to 7.32683, saving model to saved_models/weights.best.VGG16.hdf5\n",
      "Epoch 14/20\n",
      "6680/6680 [==============================] - 1s 165us/step - loss: 6.1285 - acc: 0.5910 - val_loss: 7.0116 - val_acc: 0.4659\n",
      "\n",
      "Epoch 00014: val_loss improved from 7.32683 to 7.01163, saving model to saved_models/weights.best.VGG16.hdf5\n",
      "Epoch 15/20\n",
      "6680/6680 [==============================] - 1s 166us/step - loss: 5.9504 - acc: 0.6115 - val_loss: 6.9354 - val_acc: 0.4683\n",
      "\n",
      "Epoch 00015: val_loss improved from 7.01163 to 6.93538, saving model to saved_models/weights.best.VGG16.hdf5\n",
      "Epoch 16/20\n",
      "6680/6680 [==============================] - 1s 165us/step - loss: 5.8605 - acc: 0.6175 - val_loss: 6.8587 - val_acc: 0.4802\n",
      "\n",
      "Epoch 00016: val_loss improved from 6.93538 to 6.85868, saving model to saved_models/weights.best.VGG16.hdf5\n",
      "Epoch 17/20\n",
      "6680/6680 [==============================] - 1s 168us/step - loss: 5.6543 - acc: 0.6317 - val_loss: 6.6916 - val_acc: 0.4910\n",
      "\n",
      "Epoch 00017: val_loss improved from 6.85868 to 6.69160, saving model to saved_models/weights.best.VGG16.hdf5\n",
      "Epoch 18/20\n",
      "6680/6680 [==============================] - 1s 166us/step - loss: 5.5779 - acc: 0.6386 - val_loss: 6.7732 - val_acc: 0.4898\n",
      "\n",
      "Epoch 00018: val_loss did not improve from 6.69160\n",
      "Epoch 19/20\n",
      "6680/6680 [==============================] - 1s 167us/step - loss: 5.4569 - acc: 0.6455 - val_loss: 6.5391 - val_acc: 0.5030\n",
      "\n",
      "Epoch 00019: val_loss improved from 6.69160 to 6.53907, saving model to saved_models/weights.best.VGG16.hdf5\n",
      "Epoch 20/20\n",
      "6680/6680 [==============================] - 1s 166us/step - loss: 5.3773 - acc: 0.6536 - val_loss: 6.4605 - val_acc: 0.5210\n",
      "\n",
      "Epoch 00020: val_loss improved from 6.53907 to 6.46047, saving model to saved_models/weights.best.VGG16.hdf5\n"
     ]
    },
    {
     "data": {
      "text/plain": [
       "<keras.callbacks.History at 0x7f981137f278>"
      ]
     },
     "execution_count": 23,
     "metadata": {},
     "output_type": "execute_result"
    }
   ],
   "source": [
    "checkpointer = ModelCheckpoint(filepath='saved_models/weights.best.VGG16.hdf5', \n",
    "                               verbose=1, save_best_only=True)\n",
    "\n",
    "VGG16_model.fit(train_VGG16, train_targets, \n",
    "          validation_data=(valid_VGG16, valid_targets),\n",
    "          epochs=20, batch_size=20, callbacks=[checkpointer], verbose=1)"
   ]
  },
  {
   "cell_type": "markdown",
   "metadata": {},
   "source": [
    "### Load the Model with the Best Validation Loss"
   ]
  },
  {
   "cell_type": "code",
   "execution_count": 24,
   "metadata": {},
   "outputs": [],
   "source": [
    "VGG16_model.load_weights('saved_models/weights.best.VGG16.hdf5')"
   ]
  },
  {
   "cell_type": "markdown",
   "metadata": {},
   "source": [
    "### Test the Model\n",
    "\n",
    "Now, we can use the CNN to test how well it identifies breed within our test dataset of dog images.  We print the test accuracy below."
   ]
  },
  {
   "cell_type": "code",
   "execution_count": 25,
   "metadata": {},
   "outputs": [
    {
     "name": "stdout",
     "output_type": "stream",
     "text": [
      "Test accuracy: 52.3923%\n"
     ]
    }
   ],
   "source": [
    "# get index of predicted dog breed for each image in test set\n",
    "VGG16_predictions = [np.argmax(VGG16_model.predict(np.expand_dims(feature, axis=0))) for feature in test_VGG16]\n",
    "\n",
    "# report test accuracy\n",
    "test_accuracy = 100*np.sum(np.array(VGG16_predictions)==np.argmax(test_targets, axis=1))/len(VGG16_predictions)\n",
    "print('Test accuracy: %.4f%%' % test_accuracy)"
   ]
  },
  {
   "cell_type": "markdown",
   "metadata": {},
   "source": [
    "### Predict Dog Breed with the Model"
   ]
  },
  {
   "cell_type": "code",
   "execution_count": 26,
   "metadata": {},
   "outputs": [],
   "source": [
    "from extract_bottleneck_features import *\n",
    "\n",
    "def VGG16_predict_breed(img_path):\n",
    "    # extract bottleneck features\n",
    "    bottleneck_feature = extract_VGG16(path_to_tensor(img_path))\n",
    "    # obtain predicted vector\n",
    "    predicted_vector = VGG16_model.predict(bottleneck_feature)\n",
    "    # return dog breed that is predicted by the model\n",
    "    return dog_names[np.argmax(predicted_vector)]"
   ]
  },
  {
   "cell_type": "markdown",
   "metadata": {},
   "source": [
    "---\n",
    "<a id='step5'></a>\n",
    "## Step 5: Create a CNN to Classify Dog Breeds (using Transfer Learning)\n",
    "\n",
    "You will now use transfer learning to create a CNN that can identify dog breed from images.  Your CNN must attain at least 60% accuracy on the test set.\n",
    "\n",
    "In Step 4, we used transfer learning to create a CNN using VGG-16 bottleneck features.  In this section, you must use the bottleneck features from a different pre-trained model.  To make things easier for you, we have pre-computed the features for all of the networks that are currently available in Keras:\n",
    "- [VGG-19](https://s3-us-west-1.amazonaws.com/udacity-aind/dog-project/DogVGG19Data.npz) bottleneck features\n",
    "- [ResNet-50](https://s3-us-west-1.amazonaws.com/udacity-aind/dog-project/DogResnet50Data.npz) bottleneck features\n",
    "- [Inception](https://s3-us-west-1.amazonaws.com/udacity-aind/dog-project/DogInceptionV3Data.npz) bottleneck features\n",
    "- [Xception](https://s3-us-west-1.amazonaws.com/udacity-aind/dog-project/DogXceptionData.npz) bottleneck features\n",
    "\n",
    "The files are encoded as such:\n",
    "\n",
    "    Dog{network}Data.npz\n",
    "    \n",
    "where `{network}`, in the above filename, can be one of `VGG19`, `Resnet50`, `InceptionV3`, or `Xception`.  Pick one of the above architectures, download the corresponding bottleneck features, and store the downloaded file in the `bottleneck_features/` folder in the repository.\n",
    "\n",
    "### (IMPLEMENTATION) Obtain Bottleneck Features\n",
    "\n",
    "In the code block below, extract the bottleneck features corresponding to the train, test, and validation sets by running the following:\n",
    "\n",
    "    bottleneck_features = np.load('bottleneck_features/Dog{network}Data.npz')\n",
    "    train_{network} = bottleneck_features['train']\n",
    "    valid_{network} = bottleneck_features['valid']\n",
    "    test_{network} = bottleneck_features['test']"
   ]
  },
  {
   "cell_type": "code",
   "execution_count": 31,
   "metadata": {},
   "outputs": [],
   "source": [
    "### TODO: Obtain bottleneck features from another pre-trained CNN."
   ]
  },
  {
   "cell_type": "code",
   "execution_count": 30,
   "metadata": {},
   "outputs": [],
   "source": [
    "def train_test_cnn(npz_file):\n",
    "    file_name = 'bottleneck_features/'+npz_file\n",
    "    bottleneck_features = np.load(file_name)\n",
    "    \n",
    "    train_set = bottleneck_features['train']\n",
    "    valid_set = bottleneck_features['valid']\n",
    "    test_set = bottleneck_features['test']\n",
    "\n",
    "    model = Sequential()\n",
    "    model.add(GlobalAveragePooling2D(input_shape=train_set.shape[1:]))\n",
    "    model.add(Dense(133, activation='softmax'))\n",
    "\n",
    "    model.summary()\n",
    "\n",
    "    ### Compile the Model\n",
    "    model.compile(loss='categorical_crossentropy', optimizer='rmsprop', metrics=['accuracy'])\n",
    "\n",
    "    #Train the model\n",
    "    checkpointer = ModelCheckpoint(filepath='saved_models/weights.best.VGG16.hdf5', \n",
    "                                   verbose=1, save_best_only=True)\n",
    "\n",
    "    model.fit(train_set, train_targets, \n",
    "              validation_data=(valid_set, valid_targets),\n",
    "              epochs=20, batch_size=20, callbacks=[checkpointer], verbose=1)\n",
    "\n",
    "    #Load the best model\n",
    "    model.load_weights('saved_models/weights.best.VGG16.hdf5')\n",
    "\n",
    "    #Test the model\n",
    "    # get index of predicted dog breed for each image in test set\n",
    "    predictions = [np.argmax(model.predict(np.expand_dims(feature, axis=0))) for feature in test_set]\n",
    "\n",
    "    # report test accuracy\n",
    "    test_accuracy = 100*np.sum(np.array(predictions)==np.argmax(test_targets, axis=1))/len(predictions)\n",
    "    print('Test accuracy: %.4f%%' % test_accuracy)\n"
   ]
  },
  {
   "cell_type": "code",
   "execution_count": 31,
   "metadata": {
    "scrolled": true
   },
   "outputs": [
    {
     "name": "stdout",
     "output_type": "stream",
     "text": [
      "_________________________________________________________________\n",
      "Layer (type)                 Output Shape              Param #   \n",
      "=================================================================\n",
      "global_average_pooling2d_4 ( (None, 512)               0         \n",
      "_________________________________________________________________\n",
      "dense_4 (Dense)              (None, 133)               68229     \n",
      "=================================================================\n",
      "Total params: 68,229\n",
      "Trainable params: 68,229\n",
      "Non-trainable params: 0\n",
      "_________________________________________________________________\n",
      "Train on 6680 samples, validate on 835 samples\n",
      "Epoch 1/20\n",
      "6680/6680 [==============================] - 2s 256us/step - loss: 11.1762 - acc: 0.1421 - val_loss: 9.3135 - val_acc: 0.2587\n",
      "\n",
      "Epoch 00001: val_loss improved from inf to 9.31353, saving model to saved_models/weights.best.VGG16.hdf5\n",
      "Epoch 2/20\n",
      "6680/6680 [==============================] - 1s 161us/step - loss: 8.3053 - acc: 0.3513 - val_loss: 8.1001 - val_acc: 0.3581\n",
      "\n",
      "Epoch 00002: val_loss improved from 9.31353 to 8.10008, saving model to saved_models/weights.best.VGG16.hdf5\n",
      "Epoch 3/20\n",
      "6680/6680 [==============================] - 1s 159us/step - loss: 7.3900 - acc: 0.4383 - val_loss: 7.7020 - val_acc: 0.4024\n",
      "\n",
      "Epoch 00003: val_loss improved from 8.10008 to 7.70202, saving model to saved_models/weights.best.VGG16.hdf5\n",
      "Epoch 4/20\n",
      "6680/6680 [==============================] - 1s 160us/step - loss: 6.9943 - acc: 0.4955 - val_loss: 7.5034 - val_acc: 0.4228\n",
      "\n",
      "Epoch 00004: val_loss improved from 7.70202 to 7.50336, saving model to saved_models/weights.best.VGG16.hdf5\n",
      "Epoch 5/20\n",
      "6680/6680 [==============================] - 1s 160us/step - loss: 6.8324 - acc: 0.5204 - val_loss: 7.4696 - val_acc: 0.4395\n",
      "\n",
      "Epoch 00005: val_loss improved from 7.50336 to 7.46956, saving model to saved_models/weights.best.VGG16.hdf5\n",
      "Epoch 6/20\n",
      "6680/6680 [==============================] - 1s 158us/step - loss: 6.6761 - acc: 0.5436 - val_loss: 7.2832 - val_acc: 0.4479\n",
      "\n",
      "Epoch 00006: val_loss improved from 7.46956 to 7.28319, saving model to saved_models/weights.best.VGG16.hdf5\n",
      "Epoch 7/20\n",
      "6680/6680 [==============================] - 1s 159us/step - loss: 6.5018 - acc: 0.5590 - val_loss: 7.2040 - val_acc: 0.4683\n",
      "\n",
      "Epoch 00007: val_loss improved from 7.28319 to 7.20404, saving model to saved_models/weights.best.VGG16.hdf5\n",
      "Epoch 8/20\n",
      "6680/6680 [==============================] - 1s 159us/step - loss: 6.4225 - acc: 0.5740 - val_loss: 7.1592 - val_acc: 0.4683\n",
      "\n",
      "Epoch 00008: val_loss improved from 7.20404 to 7.15921, saving model to saved_models/weights.best.VGG16.hdf5\n",
      "Epoch 9/20\n",
      "6680/6680 [==============================] - 1s 163us/step - loss: 6.3213 - acc: 0.5852 - val_loss: 7.0511 - val_acc: 0.4695\n",
      "\n",
      "Epoch 00009: val_loss improved from 7.15921 to 7.05112, saving model to saved_models/weights.best.VGG16.hdf5\n",
      "Epoch 10/20\n",
      "6680/6680 [==============================] - 1s 160us/step - loss: 6.1781 - acc: 0.5883 - val_loss: 6.9066 - val_acc: 0.4731\n",
      "\n",
      "Epoch 00010: val_loss improved from 7.05112 to 6.90658, saving model to saved_models/weights.best.VGG16.hdf5\n",
      "Epoch 11/20\n",
      "6680/6680 [==============================] - 1s 159us/step - loss: 6.0545 - acc: 0.6012 - val_loss: 6.9435 - val_acc: 0.4754\n",
      "\n",
      "Epoch 00011: val_loss did not improve from 6.90658\n",
      "Epoch 12/20\n",
      "6680/6680 [==============================] - 1s 158us/step - loss: 6.0031 - acc: 0.6121 - val_loss: 6.8607 - val_acc: 0.4886\n",
      "\n",
      "Epoch 00012: val_loss improved from 6.90658 to 6.86073, saving model to saved_models/weights.best.VGG16.hdf5\n",
      "Epoch 13/20\n",
      "6680/6680 [==============================] - 1s 158us/step - loss: 5.9521 - acc: 0.6147 - val_loss: 6.8945 - val_acc: 0.4850\n",
      "\n",
      "Epoch 00013: val_loss did not improve from 6.86073\n",
      "Epoch 14/20\n",
      "6680/6680 [==============================] - 1s 157us/step - loss: 5.7901 - acc: 0.6204 - val_loss: 6.5663 - val_acc: 0.5054\n",
      "\n",
      "Epoch 00014: val_loss improved from 6.86073 to 6.56630, saving model to saved_models/weights.best.VGG16.hdf5\n",
      "Epoch 15/20\n",
      "6680/6680 [==============================] - 1s 159us/step - loss: 5.4792 - acc: 0.6340 - val_loss: 6.4854 - val_acc: 0.4946\n",
      "\n",
      "Epoch 00015: val_loss improved from 6.56630 to 6.48536, saving model to saved_models/weights.best.VGG16.hdf5\n",
      "Epoch 16/20\n",
      "6680/6680 [==============================] - 1s 159us/step - loss: 5.2813 - acc: 0.6515 - val_loss: 6.3149 - val_acc: 0.5150\n",
      "\n",
      "Epoch 00016: val_loss improved from 6.48536 to 6.31494, saving model to saved_models/weights.best.VGG16.hdf5\n",
      "Epoch 17/20\n",
      "6680/6680 [==============================] - 1s 158us/step - loss: 5.0877 - acc: 0.6621 - val_loss: 6.0158 - val_acc: 0.5389\n",
      "\n",
      "Epoch 00017: val_loss improved from 6.31494 to 6.01582, saving model to saved_models/weights.best.VGG16.hdf5\n",
      "Epoch 18/20\n",
      "6680/6680 [==============================] - 1s 158us/step - loss: 4.8354 - acc: 0.6832 - val_loss: 6.0293 - val_acc: 0.5234\n",
      "\n",
      "Epoch 00018: val_loss did not improve from 6.01582\n",
      "Epoch 19/20\n",
      "6680/6680 [==============================] - 1s 158us/step - loss: 4.7547 - acc: 0.6903 - val_loss: 5.8766 - val_acc: 0.5461\n",
      "\n",
      "Epoch 00019: val_loss improved from 6.01582 to 5.87662, saving model to saved_models/weights.best.VGG16.hdf5\n",
      "Epoch 20/20\n",
      "6680/6680 [==============================] - 1s 159us/step - loss: 4.6110 - acc: 0.6967 - val_loss: 5.8775 - val_acc: 0.5473\n",
      "\n",
      "Epoch 00020: val_loss did not improve from 5.87662\n",
      "Test accuracy: 54.7847%\n"
     ]
    }
   ],
   "source": [
    "train_test_cnn('DogVGG19Data.npz')"
   ]
  },
  {
   "cell_type": "code",
   "execution_count": 32,
   "metadata": {
    "scrolled": true
   },
   "outputs": [
    {
     "name": "stdout",
     "output_type": "stream",
     "text": [
      "_________________________________________________________________\n",
      "Layer (type)                 Output Shape              Param #   \n",
      "=================================================================\n",
      "global_average_pooling2d_5 ( (None, 2048)              0         \n",
      "_________________________________________________________________\n",
      "dense_5 (Dense)              (None, 133)               272517    \n",
      "=================================================================\n",
      "Total params: 272,517\n",
      "Trainable params: 272,517\n",
      "Non-trainable params: 0\n",
      "_________________________________________________________________\n",
      "Train on 6680 samples, validate on 835 samples\n",
      "Epoch 1/20\n",
      "6680/6680 [==============================] - 2s 316us/step - loss: 1.1640 - acc: 0.7024 - val_loss: 0.6728 - val_acc: 0.8084\n",
      "\n",
      "Epoch 00001: val_loss improved from inf to 0.67283, saving model to saved_models/weights.best.VGG16.hdf5\n",
      "Epoch 2/20\n",
      "6680/6680 [==============================] - 2s 227us/step - loss: 0.4696 - acc: 0.8549 - val_loss: 0.6682 - val_acc: 0.8228\n",
      "\n",
      "Epoch 00002: val_loss improved from 0.67283 to 0.66820, saving model to saved_models/weights.best.VGG16.hdf5\n",
      "Epoch 3/20\n",
      "6680/6680 [==============================] - 2s 226us/step - loss: 0.3656 - acc: 0.8883 - val_loss: 0.6593 - val_acc: 0.8323\n",
      "\n",
      "Epoch 00003: val_loss improved from 0.66820 to 0.65927, saving model to saved_models/weights.best.VGG16.hdf5\n",
      "Epoch 4/20\n",
      "6680/6680 [==============================] - 2s 228us/step - loss: 0.3012 - acc: 0.9067 - val_loss: 0.6886 - val_acc: 0.8335\n",
      "\n",
      "Epoch 00004: val_loss did not improve from 0.65927\n",
      "Epoch 5/20\n",
      "6680/6680 [==============================] - 2s 229us/step - loss: 0.2475 - acc: 0.9234 - val_loss: 0.6653 - val_acc: 0.8539\n",
      "\n",
      "Epoch 00005: val_loss did not improve from 0.65927\n",
      "Epoch 6/20\n",
      "6680/6680 [==============================] - 2s 227us/step - loss: 0.2075 - acc: 0.9350 - val_loss: 0.6594 - val_acc: 0.8539\n",
      "\n",
      "Epoch 00006: val_loss did not improve from 0.65927\n",
      "Epoch 7/20\n",
      "6680/6680 [==============================] - 2s 227us/step - loss: 0.1689 - acc: 0.9490 - val_loss: 0.7122 - val_acc: 0.8467\n",
      "\n",
      "Epoch 00007: val_loss did not improve from 0.65927\n",
      "Epoch 8/20\n",
      "6680/6680 [==============================] - 2s 227us/step - loss: 0.1409 - acc: 0.9534 - val_loss: 0.7652 - val_acc: 0.8455\n",
      "\n",
      "Epoch 00008: val_loss did not improve from 0.65927\n",
      "Epoch 9/20\n",
      "6680/6680 [==============================] - 2s 227us/step - loss: 0.1256 - acc: 0.9600 - val_loss: 0.8028 - val_acc: 0.8431\n",
      "\n",
      "Epoch 00009: val_loss did not improve from 0.65927\n",
      "Epoch 10/20\n",
      "6680/6680 [==============================] - 2s 229us/step - loss: 0.1078 - acc: 0.9684 - val_loss: 0.7894 - val_acc: 0.8443\n",
      "\n",
      "Epoch 00010: val_loss did not improve from 0.65927\n",
      "Epoch 11/20\n",
      "6680/6680 [==============================] - 2s 231us/step - loss: 0.0881 - acc: 0.9735 - val_loss: 0.7616 - val_acc: 0.8587\n",
      "\n",
      "Epoch 00011: val_loss did not improve from 0.65927\n",
      "Epoch 12/20\n",
      "6680/6680 [==============================] - 2s 228us/step - loss: 0.0781 - acc: 0.9756 - val_loss: 0.8142 - val_acc: 0.8371\n",
      "\n",
      "Epoch 00012: val_loss did not improve from 0.65927\n",
      "Epoch 13/20\n",
      "6680/6680 [==============================] - 2s 227us/step - loss: 0.0675 - acc: 0.9807 - val_loss: 0.8377 - val_acc: 0.8467\n",
      "\n",
      "Epoch 00013: val_loss did not improve from 0.65927\n",
      "Epoch 14/20\n",
      "6680/6680 [==============================] - 2s 227us/step - loss: 0.0597 - acc: 0.9825 - val_loss: 0.7856 - val_acc: 0.8587\n",
      "\n",
      "Epoch 00014: val_loss did not improve from 0.65927\n",
      "Epoch 15/20\n",
      "6680/6680 [==============================] - 2s 226us/step - loss: 0.0543 - acc: 0.9835 - val_loss: 0.8252 - val_acc: 0.8539\n",
      "\n",
      "Epoch 00015: val_loss did not improve from 0.65927\n",
      "Epoch 16/20\n",
      "6680/6680 [==============================] - 2s 228us/step - loss: 0.0503 - acc: 0.9847 - val_loss: 0.8473 - val_acc: 0.8515\n",
      "\n",
      "Epoch 00016: val_loss did not improve from 0.65927\n",
      "Epoch 17/20\n",
      "6680/6680 [==============================] - 2s 227us/step - loss: 0.0461 - acc: 0.9871 - val_loss: 0.8926 - val_acc: 0.8491\n",
      "\n",
      "Epoch 00017: val_loss did not improve from 0.65927\n",
      "Epoch 18/20\n",
      "6680/6680 [==============================] - 2s 228us/step - loss: 0.0390 - acc: 0.9876 - val_loss: 0.8725 - val_acc: 0.8623\n",
      "\n",
      "Epoch 00018: val_loss did not improve from 0.65927\n",
      "Epoch 19/20\n",
      "6680/6680 [==============================] - 2s 227us/step - loss: 0.0357 - acc: 0.9892 - val_loss: 0.8985 - val_acc: 0.8515\n",
      "\n",
      "Epoch 00019: val_loss did not improve from 0.65927\n",
      "Epoch 20/20\n",
      "6680/6680 [==============================] - 2s 227us/step - loss: 0.0298 - acc: 0.9907 - val_loss: 0.9312 - val_acc: 0.8443\n",
      "\n",
      "Epoch 00020: val_loss did not improve from 0.65927\n",
      "Test accuracy: 80.8612%\n"
     ]
    }
   ],
   "source": [
    "train_test_cnn('DogInceptionV3Data.npz')"
   ]
  },
  {
   "cell_type": "code",
   "execution_count": 33,
   "metadata": {
    "scrolled": true
   },
   "outputs": [
    {
     "name": "stdout",
     "output_type": "stream",
     "text": [
      "_________________________________________________________________\n",
      "Layer (type)                 Output Shape              Param #   \n",
      "=================================================================\n",
      "global_average_pooling2d_6 ( (None, 2048)              0         \n",
      "_________________________________________________________________\n",
      "dense_6 (Dense)              (None, 133)               272517    \n",
      "=================================================================\n",
      "Total params: 272,517\n",
      "Trainable params: 272,517\n",
      "Non-trainable params: 0\n",
      "_________________________________________________________________\n",
      "Train on 6680 samples, validate on 835 samples\n",
      "Epoch 1/20\n",
      "6680/6680 [==============================] - 3s 399us/step - loss: 1.0703 - acc: 0.7338 - val_loss: 0.5094 - val_acc: 0.8275\n",
      "\n",
      "Epoch 00001: val_loss improved from inf to 0.50937, saving model to saved_models/weights.best.VGG16.hdf5\n",
      "Epoch 2/20\n",
      "6680/6680 [==============================] - 2s 309us/step - loss: 0.3976 - acc: 0.8759 - val_loss: 0.4864 - val_acc: 0.8467\n",
      "\n",
      "Epoch 00002: val_loss improved from 0.50937 to 0.48638, saving model to saved_models/weights.best.VGG16.hdf5\n",
      "Epoch 3/20\n",
      "6680/6680 [==============================] - 2s 309us/step - loss: 0.3224 - acc: 0.8973 - val_loss: 0.5075 - val_acc: 0.8395\n",
      "\n",
      "Epoch 00003: val_loss did not improve from 0.48638\n",
      "Epoch 4/20\n",
      "6680/6680 [==============================] - 2s 308us/step - loss: 0.2776 - acc: 0.9138 - val_loss: 0.4982 - val_acc: 0.8503\n",
      "\n",
      "Epoch 00004: val_loss did not improve from 0.48638\n",
      "Epoch 5/20\n",
      "6680/6680 [==============================] - 2s 309us/step - loss: 0.2436 - acc: 0.9237 - val_loss: 0.5355 - val_acc: 0.8455\n",
      "\n",
      "Epoch 00005: val_loss did not improve from 0.48638\n",
      "Epoch 6/20\n",
      "6680/6680 [==============================] - 2s 309us/step - loss: 0.2182 - acc: 0.9322 - val_loss: 0.5281 - val_acc: 0.8551\n",
      "\n",
      "Epoch 00006: val_loss did not improve from 0.48638\n",
      "Epoch 7/20\n",
      "6680/6680 [==============================] - 2s 313us/step - loss: 0.1996 - acc: 0.9365 - val_loss: 0.5360 - val_acc: 0.8599\n",
      "\n",
      "Epoch 00007: val_loss did not improve from 0.48638\n",
      "Epoch 8/20\n",
      "6680/6680 [==============================] - 2s 311us/step - loss: 0.1851 - acc: 0.9436 - val_loss: 0.5262 - val_acc: 0.8659\n",
      "\n",
      "Epoch 00008: val_loss did not improve from 0.48638\n",
      "Epoch 9/20\n",
      "6680/6680 [==============================] - 2s 311us/step - loss: 0.1624 - acc: 0.9500 - val_loss: 0.5869 - val_acc: 0.8623\n",
      "\n",
      "Epoch 00009: val_loss did not improve from 0.48638\n",
      "Epoch 10/20\n",
      "6680/6680 [==============================] - 2s 309us/step - loss: 0.1502 - acc: 0.9542 - val_loss: 0.5684 - val_acc: 0.8551\n",
      "\n",
      "Epoch 00010: val_loss did not improve from 0.48638\n",
      "Epoch 11/20\n",
      "6680/6680 [==============================] - 2s 325us/step - loss: 0.1372 - acc: 0.9582 - val_loss: 0.5710 - val_acc: 0.8623\n",
      "\n",
      "Epoch 00011: val_loss did not improve from 0.48638\n",
      "Epoch 12/20\n",
      "6680/6680 [==============================] - 2s 324us/step - loss: 0.1279 - acc: 0.9621 - val_loss: 0.5974 - val_acc: 0.8587\n",
      "\n",
      "Epoch 00012: val_loss did not improve from 0.48638\n",
      "Epoch 13/20\n",
      "6680/6680 [==============================] - 2s 311us/step - loss: 0.1155 - acc: 0.9657 - val_loss: 0.6443 - val_acc: 0.8539\n",
      "\n",
      "Epoch 00013: val_loss did not improve from 0.48638\n",
      "Epoch 14/20\n",
      "6680/6680 [==============================] - 2s 316us/step - loss: 0.1058 - acc: 0.9696 - val_loss: 0.6411 - val_acc: 0.8575\n",
      "\n",
      "Epoch 00014: val_loss did not improve from 0.48638\n",
      "Epoch 15/20\n",
      "6680/6680 [==============================] - 2s 322us/step - loss: 0.1031 - acc: 0.9681 - val_loss: 0.6646 - val_acc: 0.8563\n",
      "\n",
      "Epoch 00015: val_loss did not improve from 0.48638\n",
      "Epoch 16/20\n",
      "6680/6680 [==============================] - 2s 310us/step - loss: 0.0930 - acc: 0.9747 - val_loss: 0.6486 - val_acc: 0.8563\n",
      "\n",
      "Epoch 00016: val_loss did not improve from 0.48638\n",
      "Epoch 17/20\n",
      "6680/6680 [==============================] - 2s 308us/step - loss: 0.0855 - acc: 0.9766 - val_loss: 0.6374 - val_acc: 0.8587\n",
      "\n",
      "Epoch 00017: val_loss did not improve from 0.48638\n",
      "Epoch 18/20\n",
      "6680/6680 [==============================] - 2s 309us/step - loss: 0.0824 - acc: 0.9777 - val_loss: 0.6617 - val_acc: 0.8551\n",
      "\n",
      "Epoch 00018: val_loss did not improve from 0.48638\n",
      "Epoch 19/20\n",
      "6680/6680 [==============================] - 2s 311us/step - loss: 0.0778 - acc: 0.9771 - val_loss: 0.7169 - val_acc: 0.8431\n",
      "\n",
      "Epoch 00019: val_loss did not improve from 0.48638\n",
      "Epoch 20/20\n",
      "6680/6680 [==============================] - 2s 312us/step - loss: 0.0755 - acc: 0.9793 - val_loss: 0.6815 - val_acc: 0.8611\n",
      "\n",
      "Epoch 00020: val_loss did not improve from 0.48638\n",
      "Test accuracy: 81.9378%\n"
     ]
    }
   ],
   "source": [
    "train_test_cnn('DogXceptionData.npz')"
   ]
  },
  {
   "cell_type": "markdown",
   "metadata": {},
   "source": [
    "### Model Architecture\n",
    "\n",
    "The model uses the the pre-trained VGG-16 model as a fixed feature extractor, where the last convolutional output of VGG-16 is fed as input to our model.  We only add a global average pooling layer and a fully connected layer, where the latter contains one node for each dog category and is equipped with a softmax."
   ]
  },
  {
   "cell_type": "markdown",
   "metadata": {},
   "source": [
    "### Predict Dog Breed with the Model"
   ]
  },
  {
   "cell_type": "code",
   "execution_count": 40,
   "metadata": {},
   "outputs": [],
   "source": [
    "from extract_bottleneck_features import *\n",
    "\n",
    "def VGG16_predict_breed(img_path):\n",
    "    # extract bottleneck features\n",
    "    bottleneck_feature = extract_VGG16(path_to_tensor(img_path))\n",
    "    # obtain predicted vector\n",
    "    predicted_vector = VGG16_model.predict(bottleneck_feature)\n",
    "    print(np.argmax(predicted_vector))\n",
    "    \n",
    "    # return dog breed that is predicted by the model\n",
    "    return dog_names[np.argmax(predicted_vector)]"
   ]
  },
  {
   "cell_type": "code",
   "execution_count": 32,
   "metadata": {
    "collapsed": true
   },
   "outputs": [
    {
     "name": "stdout",
     "output_type": "stream",
     "text": [
      "dogImages/train/095.Kuvasz/Kuvasz_06442.jpg Bedlington_terrier\n",
      "dogImages/train/057.Dalmatian/Dalmatian_04054.jpg English_setter\n",
      "dogImages/train/088.Irish_water_spaniel/Irish_water_spaniel_06014.jpg Irish_water_spaniel\n",
      "dogImages/train/008.American_staffordshire_terrier/American_staffordshire_terrier_00596.jpg Plott\n",
      "dogImages/train/008.American_staffordshire_terrier/American_staffordshire_terrier_00563.jpg Akita\n",
      "dogImages/train/063.English_springer_spaniel/English_springer_spaniel_04469.jpg Petit_basset_griffon_vendeen\n",
      "dogImages/train/054.Collie/Collie_03789.jpg Collie\n"
     ]
    },
    {
     "ename": "KeyboardInterrupt",
     "evalue": "",
     "output_type": "error",
     "traceback": [
      "\u001b[0;31m---------------------------------------------------------------------------\u001b[0m",
      "\u001b[0;31mKeyboardInterrupt\u001b[0m                         Traceback (most recent call last)",
      "\u001b[0;32m<ipython-input-32-d158a56f703e>\u001b[0m in \u001b[0;36m<module>\u001b[0;34m()\u001b[0m\n\u001b[1;32m      1\u001b[0m \u001b[0;32mfor\u001b[0m \u001b[0mdog_image\u001b[0m \u001b[0;32min\u001b[0m \u001b[0mdog_files_short\u001b[0m\u001b[0;34m:\u001b[0m\u001b[0;34m\u001b[0m\u001b[0m\n\u001b[0;32m----> 2\u001b[0;31m     \u001b[0mprint\u001b[0m\u001b[0;34m(\u001b[0m\u001b[0mdog_image\u001b[0m\u001b[0;34m,\u001b[0m \u001b[0mVGG16_predict_breed\u001b[0m\u001b[0;34m(\u001b[0m\u001b[0mdog_image\u001b[0m\u001b[0;34m)\u001b[0m \u001b[0;34m)\u001b[0m\u001b[0;34m\u001b[0m\u001b[0m\n\u001b[0m",
      "\u001b[0;32m<ipython-input-31-4c46867c46af>\u001b[0m in \u001b[0;36mVGG16_predict_breed\u001b[0;34m(img_path)\u001b[0m\n\u001b[1;32m      3\u001b[0m \u001b[0;32mdef\u001b[0m \u001b[0mVGG16_predict_breed\u001b[0m\u001b[0;34m(\u001b[0m\u001b[0mimg_path\u001b[0m\u001b[0;34m)\u001b[0m\u001b[0;34m:\u001b[0m\u001b[0;34m\u001b[0m\u001b[0m\n\u001b[1;32m      4\u001b[0m     \u001b[0;31m# extract bottleneck features\u001b[0m\u001b[0;34m\u001b[0m\u001b[0;34m\u001b[0m\u001b[0m\n\u001b[0;32m----> 5\u001b[0;31m     \u001b[0mbottleneck_feature\u001b[0m \u001b[0;34m=\u001b[0m \u001b[0mextract_VGG16\u001b[0m\u001b[0;34m(\u001b[0m\u001b[0mpath_to_tensor\u001b[0m\u001b[0;34m(\u001b[0m\u001b[0mimg_path\u001b[0m\u001b[0;34m)\u001b[0m\u001b[0;34m)\u001b[0m\u001b[0;34m\u001b[0m\u001b[0m\n\u001b[0m\u001b[1;32m      6\u001b[0m     \u001b[0;31m# obtain predicted vector\u001b[0m\u001b[0;34m\u001b[0m\u001b[0;34m\u001b[0m\u001b[0m\n\u001b[1;32m      7\u001b[0m     \u001b[0mpredicted_vector\u001b[0m \u001b[0;34m=\u001b[0m \u001b[0mVGG16_model\u001b[0m\u001b[0;34m.\u001b[0m\u001b[0mpredict\u001b[0m\u001b[0;34m(\u001b[0m\u001b[0mbottleneck_feature\u001b[0m\u001b[0;34m)\u001b[0m\u001b[0;34m\u001b[0m\u001b[0m\n",
      "\u001b[0;32m~/Projects/Study/DataScience/dog-project/extract_bottleneck_features.py\u001b[0m in \u001b[0;36mextract_VGG16\u001b[0;34m(tensor)\u001b[0m\n\u001b[1;32m      1\u001b[0m \u001b[0;32mdef\u001b[0m \u001b[0mextract_VGG16\u001b[0m\u001b[0;34m(\u001b[0m\u001b[0mtensor\u001b[0m\u001b[0;34m)\u001b[0m\u001b[0;34m:\u001b[0m\u001b[0;34m\u001b[0m\u001b[0m\n\u001b[1;32m      2\u001b[0m         \u001b[0;32mfrom\u001b[0m \u001b[0mkeras\u001b[0m\u001b[0;34m.\u001b[0m\u001b[0mapplications\u001b[0m\u001b[0;34m.\u001b[0m\u001b[0mvgg16\u001b[0m \u001b[0;32mimport\u001b[0m \u001b[0mVGG16\u001b[0m\u001b[0;34m,\u001b[0m \u001b[0mpreprocess_input\u001b[0m\u001b[0;34m\u001b[0m\u001b[0m\n\u001b[0;32m----> 3\u001b[0;31m         \u001b[0;32mreturn\u001b[0m \u001b[0mVGG16\u001b[0m\u001b[0;34m(\u001b[0m\u001b[0mweights\u001b[0m\u001b[0;34m=\u001b[0m\u001b[0;34m'imagenet'\u001b[0m\u001b[0;34m,\u001b[0m \u001b[0minclude_top\u001b[0m\u001b[0;34m=\u001b[0m\u001b[0;32mFalse\u001b[0m\u001b[0;34m)\u001b[0m\u001b[0;34m.\u001b[0m\u001b[0mpredict\u001b[0m\u001b[0;34m(\u001b[0m\u001b[0mpreprocess_input\u001b[0m\u001b[0;34m(\u001b[0m\u001b[0mtensor\u001b[0m\u001b[0;34m)\u001b[0m\u001b[0;34m)\u001b[0m\u001b[0;34m\u001b[0m\u001b[0m\n\u001b[0m\u001b[1;32m      4\u001b[0m \u001b[0;34m\u001b[0m\u001b[0m\n\u001b[1;32m      5\u001b[0m \u001b[0;32mdef\u001b[0m \u001b[0mextract_VGG19\u001b[0m\u001b[0;34m(\u001b[0m\u001b[0mtensor\u001b[0m\u001b[0;34m)\u001b[0m\u001b[0;34m:\u001b[0m\u001b[0;34m\u001b[0m\u001b[0m\n",
      "\u001b[0;32m~/anaconda3/lib/python3.6/site-packages/keras_applications/vgg16.py\u001b[0m in \u001b[0;36mVGG16\u001b[0;34m(include_top, weights, input_tensor, input_shape, pooling, classes)\u001b[0m\n\u001b[1;32m    216\u001b[0m                 \u001b[0mcache_subdir\u001b[0m\u001b[0;34m=\u001b[0m\u001b[0;34m'models'\u001b[0m\u001b[0;34m,\u001b[0m\u001b[0;34m\u001b[0m\u001b[0m\n\u001b[1;32m    217\u001b[0m                 file_hash='6d6bbae143d832006294945121d1f1fc')\n\u001b[0;32m--> 218\u001b[0;31m         \u001b[0mmodel\u001b[0m\u001b[0;34m.\u001b[0m\u001b[0mload_weights\u001b[0m\u001b[0;34m(\u001b[0m\u001b[0mweights_path\u001b[0m\u001b[0;34m)\u001b[0m\u001b[0;34m\u001b[0m\u001b[0m\n\u001b[0m\u001b[1;32m    219\u001b[0m         \u001b[0;32mif\u001b[0m \u001b[0mbackend\u001b[0m\u001b[0;34m.\u001b[0m\u001b[0mbackend\u001b[0m\u001b[0;34m(\u001b[0m\u001b[0;34m)\u001b[0m \u001b[0;34m==\u001b[0m \u001b[0;34m'theano'\u001b[0m\u001b[0;34m:\u001b[0m\u001b[0;34m\u001b[0m\u001b[0m\n\u001b[1;32m    220\u001b[0m             \u001b[0mkeras_utils\u001b[0m\u001b[0;34m.\u001b[0m\u001b[0mconvert_all_kernels_in_model\u001b[0m\u001b[0;34m(\u001b[0m\u001b[0mmodel\u001b[0m\u001b[0;34m)\u001b[0m\u001b[0;34m\u001b[0m\u001b[0m\n",
      "\u001b[0;32m~/anaconda3/lib/python3.6/site-packages/keras/engine/network.py\u001b[0m in \u001b[0;36mload_weights\u001b[0;34m(self, filepath, by_name, skip_mismatch, reshape)\u001b[0m\n\u001b[1;32m   1159\u001b[0m             \u001b[0;32melse\u001b[0m\u001b[0;34m:\u001b[0m\u001b[0;34m\u001b[0m\u001b[0m\n\u001b[1;32m   1160\u001b[0m                 saving.load_weights_from_hdf5_group(\n\u001b[0;32m-> 1161\u001b[0;31m                     f, self.layers, reshape=reshape)\n\u001b[0m\u001b[1;32m   1162\u001b[0m \u001b[0;34m\u001b[0m\u001b[0m\n\u001b[1;32m   1163\u001b[0m     \u001b[0;32mdef\u001b[0m \u001b[0m_updated_config\u001b[0m\u001b[0;34m(\u001b[0m\u001b[0mself\u001b[0m\u001b[0;34m)\u001b[0m\u001b[0;34m:\u001b[0m\u001b[0;34m\u001b[0m\u001b[0m\n",
      "\u001b[0;32m~/anaconda3/lib/python3.6/site-packages/keras/engine/saving.py\u001b[0m in \u001b[0;36mload_weights_from_hdf5_group\u001b[0;34m(f, layers, reshape)\u001b[0m\n\u001b[1;32m    926\u001b[0m                              ' elements.')\n\u001b[1;32m    927\u001b[0m         \u001b[0mweight_value_tuples\u001b[0m \u001b[0;34m+=\u001b[0m \u001b[0mzip\u001b[0m\u001b[0;34m(\u001b[0m\u001b[0msymbolic_weights\u001b[0m\u001b[0;34m,\u001b[0m \u001b[0mweight_values\u001b[0m\u001b[0;34m)\u001b[0m\u001b[0;34m\u001b[0m\u001b[0m\n\u001b[0;32m--> 928\u001b[0;31m     \u001b[0mK\u001b[0m\u001b[0;34m.\u001b[0m\u001b[0mbatch_set_value\u001b[0m\u001b[0;34m(\u001b[0m\u001b[0mweight_value_tuples\u001b[0m\u001b[0;34m)\u001b[0m\u001b[0;34m\u001b[0m\u001b[0m\n\u001b[0m\u001b[1;32m    929\u001b[0m \u001b[0;34m\u001b[0m\u001b[0m\n\u001b[1;32m    930\u001b[0m \u001b[0;34m\u001b[0m\u001b[0m\n",
      "\u001b[0;32m~/anaconda3/lib/python3.6/site-packages/keras/backend/tensorflow_backend.py\u001b[0m in \u001b[0;36mbatch_set_value\u001b[0;34m(tuples)\u001b[0m\n\u001b[1;32m   2438\u001b[0m             \u001b[0massign_ops\u001b[0m\u001b[0;34m.\u001b[0m\u001b[0mappend\u001b[0m\u001b[0;34m(\u001b[0m\u001b[0massign_op\u001b[0m\u001b[0;34m)\u001b[0m\u001b[0;34m\u001b[0m\u001b[0m\n\u001b[1;32m   2439\u001b[0m             \u001b[0mfeed_dict\u001b[0m\u001b[0;34m[\u001b[0m\u001b[0massign_placeholder\u001b[0m\u001b[0;34m]\u001b[0m \u001b[0;34m=\u001b[0m \u001b[0mvalue\u001b[0m\u001b[0;34m\u001b[0m\u001b[0m\n\u001b[0;32m-> 2440\u001b[0;31m         \u001b[0mget_session\u001b[0m\u001b[0;34m(\u001b[0m\u001b[0;34m)\u001b[0m\u001b[0;34m.\u001b[0m\u001b[0mrun\u001b[0m\u001b[0;34m(\u001b[0m\u001b[0massign_ops\u001b[0m\u001b[0;34m,\u001b[0m \u001b[0mfeed_dict\u001b[0m\u001b[0;34m=\u001b[0m\u001b[0mfeed_dict\u001b[0m\u001b[0;34m)\u001b[0m\u001b[0;34m\u001b[0m\u001b[0m\n\u001b[0m\u001b[1;32m   2441\u001b[0m \u001b[0;34m\u001b[0m\u001b[0m\n\u001b[1;32m   2442\u001b[0m \u001b[0;34m\u001b[0m\u001b[0m\n",
      "\u001b[0;32m~/anaconda3/lib/python3.6/site-packages/keras/backend/tensorflow_backend.py\u001b[0m in \u001b[0;36mget_session\u001b[0;34m()\u001b[0m\n\u001b[1;32m    195\u001b[0m                 \u001b[0;31m# not already marked as initialized.\u001b[0m\u001b[0;34m\u001b[0m\u001b[0;34m\u001b[0m\u001b[0m\n\u001b[1;32m    196\u001b[0m                 is_initialized = session.run(\n\u001b[0;32m--> 197\u001b[0;31m                     [tf.is_variable_initialized(v) for v in candidate_vars])\n\u001b[0m\u001b[1;32m    198\u001b[0m                 \u001b[0muninitialized_vars\u001b[0m \u001b[0;34m=\u001b[0m \u001b[0;34m[\u001b[0m\u001b[0;34m]\u001b[0m\u001b[0;34m\u001b[0m\u001b[0m\n\u001b[1;32m    199\u001b[0m                 \u001b[0;32mfor\u001b[0m \u001b[0mflag\u001b[0m\u001b[0;34m,\u001b[0m \u001b[0mv\u001b[0m \u001b[0;32min\u001b[0m \u001b[0mzip\u001b[0m\u001b[0;34m(\u001b[0m\u001b[0mis_initialized\u001b[0m\u001b[0;34m,\u001b[0m \u001b[0mcandidate_vars\u001b[0m\u001b[0;34m)\u001b[0m\u001b[0;34m:\u001b[0m\u001b[0;34m\u001b[0m\u001b[0m\n",
      "\u001b[0;32m~/anaconda3/lib/python3.6/site-packages/tensorflow/python/client/session.py\u001b[0m in \u001b[0;36mrun\u001b[0;34m(self, fetches, feed_dict, options, run_metadata)\u001b[0m\n\u001b[1;32m    898\u001b[0m     \u001b[0;32mtry\u001b[0m\u001b[0;34m:\u001b[0m\u001b[0;34m\u001b[0m\u001b[0m\n\u001b[1;32m    899\u001b[0m       result = self._run(None, fetches, feed_dict, options_ptr,\n\u001b[0;32m--> 900\u001b[0;31m                          run_metadata_ptr)\n\u001b[0m\u001b[1;32m    901\u001b[0m       \u001b[0;32mif\u001b[0m \u001b[0mrun_metadata\u001b[0m\u001b[0;34m:\u001b[0m\u001b[0;34m\u001b[0m\u001b[0m\n\u001b[1;32m    902\u001b[0m         \u001b[0mproto_data\u001b[0m \u001b[0;34m=\u001b[0m \u001b[0mtf_session\u001b[0m\u001b[0;34m.\u001b[0m\u001b[0mTF_GetBuffer\u001b[0m\u001b[0;34m(\u001b[0m\u001b[0mrun_metadata_ptr\u001b[0m\u001b[0;34m)\u001b[0m\u001b[0;34m\u001b[0m\u001b[0m\n",
      "\u001b[0;32m~/anaconda3/lib/python3.6/site-packages/tensorflow/python/client/session.py\u001b[0m in \u001b[0;36m_run\u001b[0;34m(self, handle, fetches, feed_dict, options, run_metadata)\u001b[0m\n\u001b[1;32m   1133\u001b[0m     \u001b[0;32mif\u001b[0m \u001b[0mfinal_fetches\u001b[0m \u001b[0;32mor\u001b[0m \u001b[0mfinal_targets\u001b[0m \u001b[0;32mor\u001b[0m \u001b[0;34m(\u001b[0m\u001b[0mhandle\u001b[0m \u001b[0;32mand\u001b[0m \u001b[0mfeed_dict_tensor\u001b[0m\u001b[0;34m)\u001b[0m\u001b[0;34m:\u001b[0m\u001b[0;34m\u001b[0m\u001b[0m\n\u001b[1;32m   1134\u001b[0m       results = self._do_run(handle, final_targets, final_fetches,\n\u001b[0;32m-> 1135\u001b[0;31m                              feed_dict_tensor, options, run_metadata)\n\u001b[0m\u001b[1;32m   1136\u001b[0m     \u001b[0;32melse\u001b[0m\u001b[0;34m:\u001b[0m\u001b[0;34m\u001b[0m\u001b[0m\n\u001b[1;32m   1137\u001b[0m       \u001b[0mresults\u001b[0m \u001b[0;34m=\u001b[0m \u001b[0;34m[\u001b[0m\u001b[0;34m]\u001b[0m\u001b[0;34m\u001b[0m\u001b[0m\n",
      "\u001b[0;32m~/anaconda3/lib/python3.6/site-packages/tensorflow/python/client/session.py\u001b[0m in \u001b[0;36m_do_run\u001b[0;34m(self, handle, target_list, fetch_list, feed_dict, options, run_metadata)\u001b[0m\n\u001b[1;32m   1314\u001b[0m     \u001b[0;32mif\u001b[0m \u001b[0mhandle\u001b[0m \u001b[0;32mis\u001b[0m \u001b[0;32mNone\u001b[0m\u001b[0;34m:\u001b[0m\u001b[0;34m\u001b[0m\u001b[0m\n\u001b[1;32m   1315\u001b[0m       return self._do_call(_run_fn, feeds, fetches, targets, options,\n\u001b[0;32m-> 1316\u001b[0;31m                            run_metadata)\n\u001b[0m\u001b[1;32m   1317\u001b[0m     \u001b[0;32melse\u001b[0m\u001b[0;34m:\u001b[0m\u001b[0;34m\u001b[0m\u001b[0m\n\u001b[1;32m   1318\u001b[0m       \u001b[0;32mreturn\u001b[0m \u001b[0mself\u001b[0m\u001b[0;34m.\u001b[0m\u001b[0m_do_call\u001b[0m\u001b[0;34m(\u001b[0m\u001b[0m_prun_fn\u001b[0m\u001b[0;34m,\u001b[0m \u001b[0mhandle\u001b[0m\u001b[0;34m,\u001b[0m \u001b[0mfeeds\u001b[0m\u001b[0;34m,\u001b[0m \u001b[0mfetches\u001b[0m\u001b[0;34m)\u001b[0m\u001b[0;34m\u001b[0m\u001b[0m\n",
      "\u001b[0;32m~/anaconda3/lib/python3.6/site-packages/tensorflow/python/client/session.py\u001b[0m in \u001b[0;36m_do_call\u001b[0;34m(self, fn, *args)\u001b[0m\n\u001b[1;32m   1320\u001b[0m   \u001b[0;32mdef\u001b[0m \u001b[0m_do_call\u001b[0m\u001b[0;34m(\u001b[0m\u001b[0mself\u001b[0m\u001b[0;34m,\u001b[0m \u001b[0mfn\u001b[0m\u001b[0;34m,\u001b[0m \u001b[0;34m*\u001b[0m\u001b[0margs\u001b[0m\u001b[0;34m)\u001b[0m\u001b[0;34m:\u001b[0m\u001b[0;34m\u001b[0m\u001b[0m\n\u001b[1;32m   1321\u001b[0m     \u001b[0;32mtry\u001b[0m\u001b[0;34m:\u001b[0m\u001b[0;34m\u001b[0m\u001b[0m\n\u001b[0;32m-> 1322\u001b[0;31m       \u001b[0;32mreturn\u001b[0m \u001b[0mfn\u001b[0m\u001b[0;34m(\u001b[0m\u001b[0;34m*\u001b[0m\u001b[0margs\u001b[0m\u001b[0;34m)\u001b[0m\u001b[0;34m\u001b[0m\u001b[0m\n\u001b[0m\u001b[1;32m   1323\u001b[0m     \u001b[0;32mexcept\u001b[0m \u001b[0merrors\u001b[0m\u001b[0;34m.\u001b[0m\u001b[0mOpError\u001b[0m \u001b[0;32mas\u001b[0m \u001b[0me\u001b[0m\u001b[0;34m:\u001b[0m\u001b[0;34m\u001b[0m\u001b[0m\n\u001b[1;32m   1324\u001b[0m       \u001b[0mmessage\u001b[0m \u001b[0;34m=\u001b[0m \u001b[0mcompat\u001b[0m\u001b[0;34m.\u001b[0m\u001b[0mas_text\u001b[0m\u001b[0;34m(\u001b[0m\u001b[0me\u001b[0m\u001b[0;34m.\u001b[0m\u001b[0mmessage\u001b[0m\u001b[0;34m)\u001b[0m\u001b[0;34m\u001b[0m\u001b[0m\n",
      "\u001b[0;32m~/anaconda3/lib/python3.6/site-packages/tensorflow/python/client/session.py\u001b[0m in \u001b[0;36m_run_fn\u001b[0;34m(feed_dict, fetch_list, target_list, options, run_metadata)\u001b[0m\n\u001b[1;32m   1303\u001b[0m     \u001b[0;32mdef\u001b[0m \u001b[0m_run_fn\u001b[0m\u001b[0;34m(\u001b[0m\u001b[0mfeed_dict\u001b[0m\u001b[0;34m,\u001b[0m \u001b[0mfetch_list\u001b[0m\u001b[0;34m,\u001b[0m \u001b[0mtarget_list\u001b[0m\u001b[0;34m,\u001b[0m \u001b[0moptions\u001b[0m\u001b[0;34m,\u001b[0m \u001b[0mrun_metadata\u001b[0m\u001b[0;34m)\u001b[0m\u001b[0;34m:\u001b[0m\u001b[0;34m\u001b[0m\u001b[0m\n\u001b[1;32m   1304\u001b[0m       \u001b[0;31m# Ensure any changes to the graph are reflected in the runtime.\u001b[0m\u001b[0;34m\u001b[0m\u001b[0;34m\u001b[0m\u001b[0m\n\u001b[0;32m-> 1305\u001b[0;31m       \u001b[0mself\u001b[0m\u001b[0;34m.\u001b[0m\u001b[0m_extend_graph\u001b[0m\u001b[0;34m(\u001b[0m\u001b[0;34m)\u001b[0m\u001b[0;34m\u001b[0m\u001b[0m\n\u001b[0m\u001b[1;32m   1306\u001b[0m       return self._call_tf_sessionrun(\n\u001b[1;32m   1307\u001b[0m           options, feed_dict, fetch_list, target_list, run_metadata)\n",
      "\u001b[0;32m~/anaconda3/lib/python3.6/site-packages/tensorflow/python/client/session.py\u001b[0m in \u001b[0;36m_extend_graph\u001b[0;34m(self)\u001b[0m\n\u001b[1;32m   1338\u001b[0m     \u001b[0;32mif\u001b[0m \u001b[0mself\u001b[0m\u001b[0;34m.\u001b[0m\u001b[0m_created_with_new_api\u001b[0m\u001b[0;34m:\u001b[0m\u001b[0;34m\u001b[0m\u001b[0m\n\u001b[1;32m   1339\u001b[0m       \u001b[0;32mwith\u001b[0m \u001b[0mself\u001b[0m\u001b[0;34m.\u001b[0m\u001b[0m_graph\u001b[0m\u001b[0;34m.\u001b[0m\u001b[0m_lock\u001b[0m\u001b[0;34m:\u001b[0m  \u001b[0;31m# pylint: disable=protected-access\u001b[0m\u001b[0;34m\u001b[0m\u001b[0m\n\u001b[0;32m-> 1340\u001b[0;31m         \u001b[0mtf_session\u001b[0m\u001b[0;34m.\u001b[0m\u001b[0mExtendSession\u001b[0m\u001b[0;34m(\u001b[0m\u001b[0mself\u001b[0m\u001b[0;34m.\u001b[0m\u001b[0m_session\u001b[0m\u001b[0;34m)\u001b[0m\u001b[0;34m\u001b[0m\u001b[0m\n\u001b[0m\u001b[1;32m   1341\u001b[0m     \u001b[0;32melse\u001b[0m\u001b[0;34m:\u001b[0m\u001b[0;34m\u001b[0m\u001b[0m\n\u001b[1;32m   1342\u001b[0m       \u001b[0;31m# Ensure any changes to the graph are reflected in the runtime.\u001b[0m\u001b[0;34m\u001b[0m\u001b[0;34m\u001b[0m\u001b[0m\n",
      "\u001b[0;31mKeyboardInterrupt\u001b[0m: "
     ]
    }
   ],
   "source": [
    "for dog_image in dog_files_short:\n",
    "    print(dog_image, VGG16_predict_breed(dog_image) )"
   ]
  },
  {
   "cell_type": "code",
   "execution_count": 41,
   "metadata": {},
   "outputs": [
    {
     "name": "stdout",
     "output_type": "stream",
     "text": [
      "70\n"
     ]
    },
    {
     "data": {
      "text/plain": [
       "'German_shepherd_dog'"
      ]
     },
     "execution_count": 41,
     "metadata": {},
     "output_type": "execute_result"
    }
   ],
   "source": [
    "dog_image = 'dogImages/train/071.German_shepherd_dog/German_shepherd_dog_04890.jpg'\n",
    "VGG16_predict_breed(dog_image)"
   ]
  },
  {
   "cell_type": "markdown",
   "metadata": {},
   "source": [
    "### (IMPLEMENTATION) Model Architecture\n",
    "\n",
    "Create a CNN to classify dog breed.  At the end of your code cell block, summarize the layers of your model by executing the line:\n",
    "    \n",
    "        <your model's name>.summary()\n",
    "   \n",
    "__Question 5:__ Outline the steps you took to get to your final CNN architecture and your reasoning at each step.  Describe why you think the architecture is suitable for the current problem.\n",
    "\n",
    "__Answer:__ \n",
    "\n"
   ]
  },
  {
   "cell_type": "code",
   "execution_count": 53,
   "metadata": {},
   "outputs": [
    {
     "name": "stdout",
     "output_type": "stream",
     "text": [
      "_________________________________________________________________\n",
      "Layer (type)                 Output Shape              Param #   \n",
      "=================================================================\n",
      "conv2d_33 (Conv2D)           (None, 224, 224, 16)      208       \n",
      "_________________________________________________________________\n",
      "max_pooling2d_33 (MaxPooling (None, 112, 112, 16)      0         \n",
      "_________________________________________________________________\n",
      "conv2d_34 (Conv2D)           (None, 112, 112, 32)      2080      \n",
      "_________________________________________________________________\n",
      "max_pooling2d_34 (MaxPooling (None, 56, 56, 32)        0         \n",
      "_________________________________________________________________\n",
      "conv2d_35 (Conv2D)           (None, 56, 56, 64)        8256      \n",
      "_________________________________________________________________\n",
      "max_pooling2d_35 (MaxPooling (None, 28, 28, 64)        0         \n",
      "_________________________________________________________________\n",
      "conv2d_36 (Conv2D)           (None, 28, 28, 128)       32896     \n",
      "_________________________________________________________________\n",
      "max_pooling2d_36 (MaxPooling (None, 14, 14, 128)       0         \n",
      "_________________________________________________________________\n",
      "conv2d_37 (Conv2D)           (None, 14, 14, 256)       131328    \n",
      "_________________________________________________________________\n",
      "max_pooling2d_37 (MaxPooling (None, 7, 7, 256)         0         \n",
      "_________________________________________________________________\n",
      "global_average_pooling2d_13  (None, 256)               0         \n",
      "_________________________________________________________________\n",
      "dense_17 (Dense)             (None, 512)               131584    \n",
      "_________________________________________________________________\n",
      "dropout_5 (Dropout)          (None, 512)               0         \n",
      "_________________________________________________________________\n",
      "dense_18 (Dense)             (None, 133)               68229     \n",
      "=================================================================\n",
      "Total params: 374,581\n",
      "Trainable params: 374,581\n",
      "Non-trainable params: 0\n",
      "_________________________________________________________________\n"
     ]
    }
   ],
   "source": [
    "### TODO: Define your architecture.\n",
    "\n",
    "mymodel = Sequential()\n",
    "\n",
    "### TODO: Define your architecture.\n",
    "mymodel.add(Conv2D(filters=16, kernel_size=2, padding='same', activation='relu', input_shape=(224, 224,3)))\n",
    "mymodel.add(MaxPooling2D(pool_size=2))\n",
    "mymodel.add(Conv2D(filters=32, kernel_size=2, padding='same', activation='relu'))\n",
    "mymodel.add(MaxPooling2D(pool_size=2))\n",
    "mymodel.add(Conv2D(filters=64, kernel_size=2, padding='same', activation='relu'))\n",
    "mymodel.add(MaxPooling2D(pool_size=2))\n",
    "mymodel.add(Conv2D(filters=128, kernel_size=2, padding='same', activation='relu'))\n",
    "mymodel.add(MaxPooling2D(pool_size=2))\n",
    "mymodel.add(Conv2D(filters=256, kernel_size=2, padding='same', activation='relu'))\n",
    "mymodel.add(MaxPooling2D(pool_size=2))\n",
    "mymodel.add(GlobalAveragePooling2D())\n",
    "\n",
    "# model.add(Flatten())\n",
    "# mymodel.add(Dense(1024, activation='relu'))\n",
    "# mymodel.add(Dropout(0.2))\n",
    "mymodel.add(Dense(512, activation='relu'))\n",
    "mymodel.add(Dropout(0.2))\n",
    "mymodel.add(Dense(133, activation='softmax' ))\n",
    "\n",
    "mymodel.summary()"
   ]
  },
  {
   "cell_type": "markdown",
   "metadata": {},
   "source": [
    "### (IMPLEMENTATION) Compile the Model"
   ]
  },
  {
   "cell_type": "code",
   "execution_count": 54,
   "metadata": {},
   "outputs": [],
   "source": [
    "### TODO: Compile the model.\n",
    "\n",
    "mymodel.compile(loss='categorical_crossentropy', optimizer='rmsprop', metrics=['accuracy'])"
   ]
  },
  {
   "cell_type": "markdown",
   "metadata": {},
   "source": [
    "### (IMPLEMENTATION) Train the Model\n",
    "\n",
    "Train your model in the code cell below.  Use model checkpointing to save the model that attains the best validation loss.  \n",
    "\n",
    "You are welcome to [augment the training data](https://blog.keras.io/building-powerful-image-classification-models-using-very-little-data.html), but this is not a requirement. "
   ]
  },
  {
   "cell_type": "code",
   "execution_count": 55,
   "metadata": {
    "scrolled": true
   },
   "outputs": [
    {
     "name": "stdout",
     "output_type": "stream",
     "text": [
      "Train on 6680 samples, validate on 835 samples\n",
      "Epoch 1/20\n",
      "6680/6680 [==============================] - 5s 760us/step - loss: 3.9776 - acc: 0.1099 - val_loss: 4.3003 - val_acc: 0.0611\n",
      "\n",
      "Epoch 00001: val_loss improved from inf to 4.30030, saving model to saved_models/weights.best.from_scratch.hdf5\n",
      "Epoch 2/20\n",
      "6680/6680 [==============================] - 4s 667us/step - loss: 3.9677 - acc: 0.1097 - val_loss: 4.2621 - val_acc: 0.0850\n",
      "\n",
      "Epoch 00002: val_loss improved from 4.30030 to 4.26206, saving model to saved_models/weights.best.from_scratch.hdf5\n",
      "Epoch 3/20\n",
      "6680/6680 [==============================] - 4s 666us/step - loss: 3.9571 - acc: 0.1126 - val_loss: 4.2440 - val_acc: 0.0826\n",
      "\n",
      "Epoch 00003: val_loss improved from 4.26206 to 4.24396, saving model to saved_models/weights.best.from_scratch.hdf5\n",
      "Epoch 4/20\n",
      "6680/6680 [==============================] - 4s 668us/step - loss: 3.9478 - acc: 0.1186 - val_loss: 4.2634 - val_acc: 0.0743\n",
      "\n",
      "Epoch 00004: val_loss did not improve from 4.24396\n",
      "Epoch 5/20\n",
      "6680/6680 [==============================] - 4s 662us/step - loss: 3.9356 - acc: 0.1154 - val_loss: 4.2474 - val_acc: 0.0886\n",
      "\n",
      "Epoch 00005: val_loss did not improve from 4.24396\n",
      "Epoch 6/20\n",
      "6680/6680 [==============================] - 4s 663us/step - loss: 3.9237 - acc: 0.1156 - val_loss: 4.2783 - val_acc: 0.0802\n",
      "\n",
      "Epoch 00006: val_loss did not improve from 4.24396\n",
      "Epoch 7/20\n",
      "6680/6680 [==============================] - 4s 664us/step - loss: 3.9107 - acc: 0.1184 - val_loss: 4.2850 - val_acc: 0.0838\n",
      "\n",
      "Epoch 00007: val_loss did not improve from 4.24396\n",
      "Epoch 8/20\n",
      "6680/6680 [==============================] - 4s 665us/step - loss: 3.9108 - acc: 0.1190 - val_loss: 4.2749 - val_acc: 0.0814\n",
      "\n",
      "Epoch 00008: val_loss did not improve from 4.24396\n",
      "Epoch 9/20\n",
      "6680/6680 [==============================] - 4s 660us/step - loss: 3.8939 - acc: 0.1213 - val_loss: 4.2743 - val_acc: 0.0934\n",
      "\n",
      "Epoch 00009: val_loss did not improve from 4.24396\n",
      "Epoch 10/20\n",
      "6680/6680 [==============================] - 5s 685us/step - loss: 3.8881 - acc: 0.1249 - val_loss: 4.1898 - val_acc: 0.0838\n",
      "\n",
      "Epoch 00010: val_loss improved from 4.24396 to 4.18983, saving model to saved_models/weights.best.from_scratch.hdf5\n",
      "Epoch 11/20\n",
      "6680/6680 [==============================] - 4s 667us/step - loss: 3.8756 - acc: 0.1296 - val_loss: 4.2058 - val_acc: 0.0970\n",
      "\n",
      "Epoch 00011: val_loss did not improve from 4.18983\n",
      "Epoch 12/20\n",
      "6680/6680 [==============================] - 4s 670us/step - loss: 3.8642 - acc: 0.1274 - val_loss: 4.2000 - val_acc: 0.0922\n",
      "\n",
      "Epoch 00012: val_loss did not improve from 4.18983\n",
      "Epoch 13/20\n",
      "6680/6680 [==============================] - 4s 671us/step - loss: 3.8610 - acc: 0.1313 - val_loss: 4.1665 - val_acc: 0.0958\n",
      "\n",
      "Epoch 00013: val_loss improved from 4.18983 to 4.16649, saving model to saved_models/weights.best.from_scratch.hdf5\n",
      "Epoch 14/20\n",
      "6680/6680 [==============================] - 5s 688us/step - loss: 3.8450 - acc: 0.1304 - val_loss: 4.1718 - val_acc: 0.0946\n",
      "\n",
      "Epoch 00014: val_loss did not improve from 4.16649\n",
      "Epoch 15/20\n",
      "6680/6680 [==============================] - 4s 672us/step - loss: 3.8413 - acc: 0.1296 - val_loss: 4.2744 - val_acc: 0.0790\n",
      "\n",
      "Epoch 00015: val_loss did not improve from 4.16649\n",
      "Epoch 16/20\n",
      "6680/6680 [==============================] - 5s 679us/step - loss: 3.8336 - acc: 0.1307 - val_loss: 4.2614 - val_acc: 0.0922\n",
      "\n",
      "Epoch 00016: val_loss did not improve from 4.16649\n",
      "Epoch 17/20\n",
      "6680/6680 [==============================] - 5s 692us/step - loss: 3.8216 - acc: 0.1301 - val_loss: 4.1852 - val_acc: 0.0934\n",
      "\n",
      "Epoch 00017: val_loss did not improve from 4.16649\n",
      "Epoch 18/20\n",
      "6680/6680 [==============================] - 5s 675us/step - loss: 3.8106 - acc: 0.1383 - val_loss: 4.2233 - val_acc: 0.0958\n",
      "\n",
      "Epoch 00018: val_loss did not improve from 4.16649\n",
      "Epoch 19/20\n",
      "6680/6680 [==============================] - 4s 668us/step - loss: 3.8007 - acc: 0.1394 - val_loss: 4.1409 - val_acc: 0.1042\n",
      "\n",
      "Epoch 00019: val_loss improved from 4.16649 to 4.14088, saving model to saved_models/weights.best.from_scratch.hdf5\n",
      "Epoch 20/20\n",
      "6680/6680 [==============================] - 4s 667us/step - loss: 3.7973 - acc: 0.1343 - val_loss: 4.1562 - val_acc: 0.1066\n",
      "\n",
      "Epoch 00020: val_loss did not improve from 4.14088\n"
     ]
    },
    {
     "data": {
      "text/plain": [
       "<keras.callbacks.History at 0x7f9809700160>"
      ]
     },
     "execution_count": 55,
     "metadata": {},
     "output_type": "execute_result"
    }
   ],
   "source": [
    "### TODO: Train the model.\n",
    "from keras.callbacks import ModelCheckpoint  \n",
    "\n",
    "### TODO: specify the number of epochs that you would like to use to train the model.\n",
    "\n",
    "epochs = 20\n",
    "\n",
    "### Do NOT modify the code below this line.\n",
    "\n",
    "checkpointer = ModelCheckpoint(filepath='saved_models/weights.best.from_scratch.hdf5', \n",
    "                               verbose=1, save_best_only=True)\n",
    "\n",
    "mymodel.fit(train_tensors, train_targets, \n",
    "          validation_data=(valid_tensors, valid_targets),\n",
    "          epochs=epochs, batch_size=20, callbacks=[checkpointer], verbose=1)"
   ]
  },
  {
   "cell_type": "markdown",
   "metadata": {},
   "source": [
    "### (IMPLEMENTATION) Load the Model with the Best Validation Loss"
   ]
  },
  {
   "cell_type": "code",
   "execution_count": 56,
   "metadata": {},
   "outputs": [],
   "source": [
    "### TODO: Load the model weights with the best validation loss.\n",
    "mymodel.load_weights('saved_models/weights.best.from_scratch.hdf5')\n"
   ]
  },
  {
   "cell_type": "markdown",
   "metadata": {},
   "source": [
    "### (IMPLEMENTATION) Test the Model\n",
    "\n",
    "Try out your model on the test dataset of dog images. Ensure that your test accuracy is greater than 60%."
   ]
  },
  {
   "cell_type": "code",
   "execution_count": 57,
   "metadata": {},
   "outputs": [
    {
     "name": "stdout",
     "output_type": "stream",
     "text": [
      "Test accuracy: 10.4067%\n"
     ]
    }
   ],
   "source": [
    "### TODO: Calculate classification accuracy on the test dataset.\n",
    "# get index of predicted dog breed for each image in test set\n",
    "dog_breed_predictions = [np.argmax(mymodel.predict(np.expand_dims(tensor, axis=0))) for tensor in test_tensors]\n",
    "\n",
    "# report test accuracy\n",
    "test_accuracy = 100*np.sum(np.array(dog_breed_predictions)==np.argmax(test_targets, axis=1))/len(dog_breed_predictions)\n",
    "print('Test accuracy: %.4f%%' % test_accuracy)"
   ]
  },
  {
   "cell_type": "markdown",
   "metadata": {},
   "source": [
    "### (IMPLEMENTATION) Predict Dog Breed with the Model\n",
    "\n",
    "Write a function that takes an image path as input and returns the dog breed (`Affenpinscher`, `Afghan_hound`, etc) that is predicted by your model.  \n",
    "\n",
    "Similar to the analogous function in Step 5, your function should have three steps:\n",
    "1. Extract the bottleneck features corresponding to the chosen CNN model.\n",
    "2. Supply the bottleneck features as input to the model to return the predicted vector.  Note that the argmax of this prediction vector gives the index of the predicted dog breed.\n",
    "3. Use the `dog_names` array defined in Step 0 of this notebook to return the corresponding breed.\n",
    "\n",
    "The functions to extract the bottleneck features can be found in `extract_bottleneck_features.py`, and they have been imported in an earlier code cell.  To obtain the bottleneck features corresponding to your chosen CNN architecture, you need to use the function\n",
    "\n",
    "    extract_{network}\n",
    "    \n",
    "where `{network}`, in the above filename, should be one of `VGG19`, `Resnet50`, `InceptionV3`, or `Xception`."
   ]
  },
  {
   "cell_type": "code",
   "execution_count": 37,
   "metadata": {},
   "outputs": [],
   "source": [
    "### TODO: Write a function that takes a path to an image as input\n",
    "### and returns the dog breed that is predicted by the model."
   ]
  },
  {
   "cell_type": "markdown",
   "metadata": {},
   "source": [
    "---\n",
    "<a id='step6'></a>\n",
    "## Step 6: Write your Algorithm\n",
    "\n",
    "Write an algorithm that accepts a file path to an image and first determines whether the image contains a human, dog, or neither.  Then,\n",
    "- if a __dog__ is detected in the image, return the predicted breed.\n",
    "- if a __human__ is detected in the image, return the resembling dog breed.\n",
    "- if __neither__ is detected in the image, provide output that indicates an error.\n",
    "\n",
    "You are welcome to write your own functions for detecting humans and dogs in images, but feel free to use the `face_detector` and `dog_detector` functions developed above.  You are __required__ to use your CNN from Step 5 to predict dog breed.  \n",
    "\n",
    "Some sample output for our algorithm is provided below, but feel free to design your own user experience!\n",
    "\n",
    "![Sample Human Output](images/sample_human_output.png)\n",
    "\n",
    "\n",
    "### (IMPLEMENTATION) Write your Algorithm"
   ]
  },
  {
   "cell_type": "code",
   "execution_count": 38,
   "metadata": {},
   "outputs": [],
   "source": [
    "### TODO: Write your algorithm.\n",
    "### Feel free to use as many code cells as needed."
   ]
  },
  {
   "cell_type": "code",
   "execution_count": 6,
   "metadata": {},
   "outputs": [],
   "source": [
    "from keras.layers import Conv2D, MaxPooling2D, GlobalAveragePooling2D\n",
    "from keras.layers import Dropout, Flatten, Dense\n",
    "from keras.models import Sequential\n",
    "from keras.callbacks import ModelCheckpoint  \n"
   ]
  },
  {
   "cell_type": "code",
   "execution_count": 68,
   "metadata": {},
   "outputs": [
    {
     "name": "stdout",
     "output_type": "stream",
     "text": [
      "_________________________________________________________________\n",
      "Layer (type)                 Output Shape              Param #   \n",
      "=================================================================\n",
      "conv2d_16 (Conv2D)           (None, 224, 224, 16)      208       \n",
      "_________________________________________________________________\n",
      "max_pooling2d_16 (MaxPooling (None, 112, 112, 16)      0         \n",
      "_________________________________________________________________\n",
      "conv2d_17 (Conv2D)           (None, 112, 112, 32)      2080      \n",
      "_________________________________________________________________\n",
      "max_pooling2d_17 (MaxPooling (None, 56, 56, 32)        0         \n",
      "_________________________________________________________________\n",
      "conv2d_18 (Conv2D)           (None, 56, 56, 64)        8256      \n",
      "_________________________________________________________________\n",
      "max_pooling2d_18 (MaxPooling (None, 28, 28, 64)        0         \n",
      "_________________________________________________________________\n",
      "conv2d_19 (Conv2D)           (None, 28, 28, 128)       32896     \n",
      "_________________________________________________________________\n",
      "max_pooling2d_19 (MaxPooling (None, 14, 14, 128)       0         \n",
      "_________________________________________________________________\n",
      "conv2d_20 (Conv2D)           (None, 14, 14, 256)       131328    \n",
      "_________________________________________________________________\n",
      "max_pooling2d_20 (MaxPooling (None, 7, 7, 256)         0         \n",
      "_________________________________________________________________\n",
      "conv2d_21 (Conv2D)           (None, 7, 7, 512)         524800    \n",
      "_________________________________________________________________\n",
      "max_pooling2d_21 (MaxPooling (None, 3, 3, 512)         0         \n",
      "_________________________________________________________________\n",
      "global_average_pooling2d_4 ( (None, 512)               0         \n",
      "_________________________________________________________________\n",
      "dense_8 (Dense)              (None, 512)               262656    \n",
      "_________________________________________________________________\n",
      "dropout_5 (Dropout)          (None, 512)               0         \n",
      "_________________________________________________________________\n",
      "dense_9 (Dense)              (None, 133)               68229     \n",
      "=================================================================\n",
      "Total params: 1,030,453\n",
      "Trainable params: 1,030,453\n",
      "Non-trainable params: 0\n",
      "_________________________________________________________________\n"
     ]
    }
   ],
   "source": [
    "### TODO: Define your architecture.\n",
    "\n",
    "mymodel = Sequential()\n",
    "\n",
    "### TODO: Define your architecture.\n",
    "mymodel.add(Conv2D(filters=16, kernel_size=2, padding='same', activation='relu', input_shape=(224, 224,3)))\n",
    "mymodel.add(MaxPooling2D(pool_size=2))\n",
    "mymodel.add(Conv2D(filters=32, kernel_size=2, padding='same', activation='relu'))\n",
    "mymodel.add(MaxPooling2D(pool_size=2))\n",
    "mymodel.add(Conv2D(filters=64, kernel_size=2, padding='same', activation='relu'))\n",
    "mymodel.add(MaxPooling2D(pool_size=2))\n",
    "mymodel.add(Conv2D(filters=128, kernel_size=2, padding='same', activation='relu'))\n",
    "mymodel.add(MaxPooling2D(pool_size=2))\n",
    "mymodel.add(Conv2D(filters=256, kernel_size=2, padding='same', activation='relu'))\n",
    "mymodel.add(MaxPooling2D(pool_size=2))\n",
    "mymodel.add(Conv2D(filters=512, kernel_size=2, padding='same', activation='relu'))\n",
    "mymodel.add(MaxPooling2D(pool_size=2))\n",
    "mymodel.add(GlobalAveragePooling2D())\n",
    "\n",
    "# model.add(Flatten())\n",
    "# mymodel.add(Dense(1024, activation='relu'))\n",
    "# mymodel.add(Dropout(0.2))\n",
    "mymodel.add(Dense(512, activation='relu'))\n",
    "mymodel.add(Dropout(0.2))\n",
    "mymodel.add(Dense(133, activation='softmax' ))\n",
    "\n",
    "mymodel.summary()"
   ]
  },
  {
   "cell_type": "code",
   "execution_count": 69,
   "metadata": {},
   "outputs": [],
   "source": [
    "### TODO: Compile the model.\n",
    "\n",
    "mymodel.compile(loss='categorical_crossentropy', optimizer='rmsprop', metrics=['accuracy'])"
   ]
  },
  {
   "cell_type": "code",
   "execution_count": 70,
   "metadata": {
    "scrolled": true
   },
   "outputs": [
    {
     "name": "stdout",
     "output_type": "stream",
     "text": [
      "Train on 6680 samples, validate on 835 samples\n",
      "Epoch 1/20\n",
      "6680/6680 [==============================] - 7s 974us/step - loss: 4.8840 - acc: 0.0076 - val_loss: 4.8514 - val_acc: 0.0096\n",
      "\n",
      "Epoch 00001: val_loss improved from inf to 4.85145, saving model to saved_models/weights.best.from_scratch.hdf5\n",
      "Epoch 2/20\n",
      "6680/6680 [==============================] - 6s 860us/step - loss: 4.8083 - acc: 0.0144 - val_loss: 4.8804 - val_acc: 0.0156\n",
      "\n",
      "Epoch 00002: val_loss did not improve from 4.85145\n",
      "Epoch 3/20\n",
      "6680/6680 [==============================] - 6s 874us/step - loss: 4.7045 - acc: 0.0196 - val_loss: 4.6273 - val_acc: 0.0263\n",
      "\n",
      "Epoch 00003: val_loss improved from 4.85145 to 4.62726, saving model to saved_models/weights.best.from_scratch.hdf5\n",
      "Epoch 4/20\n",
      "6680/6680 [==============================] - 6s 865us/step - loss: 4.5510 - acc: 0.0302 - val_loss: 4.4338 - val_acc: 0.0371\n",
      "\n",
      "Epoch 00004: val_loss improved from 4.62726 to 4.43380, saving model to saved_models/weights.best.from_scratch.hdf5\n",
      "Epoch 5/20\n",
      "6680/6680 [==============================] - 6s 855us/step - loss: 4.3733 - acc: 0.0380 - val_loss: 4.2844 - val_acc: 0.0419\n",
      "\n",
      "Epoch 00005: val_loss improved from 4.43380 to 4.28440, saving model to saved_models/weights.best.from_scratch.hdf5\n",
      "Epoch 6/20\n",
      "6680/6680 [==============================] - 6s 853us/step - loss: 4.1876 - acc: 0.0566 - val_loss: 4.2281 - val_acc: 0.0539\n",
      "\n",
      "Epoch 00006: val_loss improved from 4.28440 to 4.22813, saving model to saved_models/weights.best.from_scratch.hdf5\n",
      "Epoch 7/20\n",
      "6680/6680 [==============================] - 6s 854us/step - loss: 4.0082 - acc: 0.0725 - val_loss: 4.0361 - val_acc: 0.0814\n",
      "\n",
      "Epoch 00007: val_loss improved from 4.22813 to 4.03612, saving model to saved_models/weights.best.from_scratch.hdf5\n",
      "Epoch 8/20\n",
      "6680/6680 [==============================] - 6s 856us/step - loss: 3.8611 - acc: 0.0915 - val_loss: 3.9288 - val_acc: 0.0790\n",
      "\n",
      "Epoch 00008: val_loss improved from 4.03612 to 3.92879, saving model to saved_models/weights.best.from_scratch.hdf5\n",
      "Epoch 9/20\n",
      "6680/6680 [==============================] - 6s 855us/step - loss: 3.7163 - acc: 0.1148 - val_loss: 3.7468 - val_acc: 0.1102\n",
      "\n",
      "Epoch 00009: val_loss improved from 3.92879 to 3.74679, saving model to saved_models/weights.best.from_scratch.hdf5\n",
      "Epoch 10/20\n",
      "6680/6680 [==============================] - 6s 857us/step - loss: 3.5639 - acc: 0.1365 - val_loss: 4.0293 - val_acc: 0.0814\n",
      "\n",
      "Epoch 00010: val_loss did not improve from 3.74679\n",
      "Epoch 11/20\n",
      "6680/6680 [==============================] - 6s 857us/step - loss: 3.4068 - acc: 0.1600 - val_loss: 3.5797 - val_acc: 0.1581\n",
      "\n",
      "Epoch 00011: val_loss improved from 3.74679 to 3.57973, saving model to saved_models/weights.best.from_scratch.hdf5\n",
      "Epoch 12/20\n",
      "6680/6680 [==============================] - 6s 853us/step - loss: 3.2442 - acc: 0.1777 - val_loss: 3.5481 - val_acc: 0.1413\n",
      "\n",
      "Epoch 00012: val_loss improved from 3.57973 to 3.54810, saving model to saved_models/weights.best.from_scratch.hdf5\n",
      "Epoch 13/20\n",
      "6680/6680 [==============================] - 6s 850us/step - loss: 3.0777 - acc: 0.2147 - val_loss: 3.6676 - val_acc: 0.1545\n",
      "\n",
      "Epoch 00013: val_loss did not improve from 3.54810\n",
      "Epoch 14/20\n",
      "6680/6680 [==============================] - 6s 864us/step - loss: 2.9057 - acc: 0.2455 - val_loss: 3.4867 - val_acc: 0.1772\n",
      "\n",
      "Epoch 00014: val_loss improved from 3.54810 to 3.48670, saving model to saved_models/weights.best.from_scratch.hdf5\n",
      "Epoch 15/20\n",
      "6680/6680 [==============================] - 6s 875us/step - loss: 2.7270 - acc: 0.2740 - val_loss: 3.6377 - val_acc: 0.1784\n",
      "\n",
      "Epoch 00015: val_loss did not improve from 3.48670\n",
      "Epoch 16/20\n",
      "6680/6680 [==============================] - 6s 862us/step - loss: 2.5341 - acc: 0.3225 - val_loss: 3.8618 - val_acc: 0.1605\n",
      "\n",
      "Epoch 00016: val_loss did not improve from 3.48670\n",
      "Epoch 17/20\n",
      "6680/6680 [==============================] - 6s 854us/step - loss: 2.3436 - acc: 0.3578 - val_loss: 3.7280 - val_acc: 0.1749\n",
      "\n",
      "Epoch 00017: val_loss did not improve from 3.48670\n",
      "Epoch 18/20\n",
      "6680/6680 [==============================] - 6s 857us/step - loss: 2.1380 - acc: 0.4027 - val_loss: 4.0649 - val_acc: 0.1677\n",
      "\n",
      "Epoch 00018: val_loss did not improve from 3.48670\n",
      "Epoch 19/20\n",
      "6680/6680 [==============================] - 6s 872us/step - loss: 1.9365 - acc: 0.4518 - val_loss: 3.8362 - val_acc: 0.1916\n",
      "\n",
      "Epoch 00019: val_loss did not improve from 3.48670\n",
      "Epoch 20/20\n",
      "6680/6680 [==============================] - 6s 872us/step - loss: 1.7225 - acc: 0.4978 - val_loss: 3.9033 - val_acc: 0.1844\n",
      "\n",
      "Epoch 00020: val_loss did not improve from 3.48670\n"
     ]
    },
    {
     "data": {
      "text/plain": [
       "<keras.callbacks.History at 0x7f04e699c320>"
      ]
     },
     "execution_count": 70,
     "metadata": {},
     "output_type": "execute_result"
    }
   ],
   "source": [
    "### TODO: Train the model.\n",
    "from keras.callbacks import ModelCheckpoint  \n",
    "\n",
    "### TODO: specify the number of epochs that you would like to use to train the model.\n",
    "\n",
    "epochs = 20\n",
    "\n",
    "### Do NOT modify the code below this line.\n",
    "\n",
    "checkpointer = ModelCheckpoint(filepath='saved_models/weights.best.from_scratch.hdf5', \n",
    "                               verbose=1, save_best_only=True)\n",
    "\n",
    "mymodel.fit(train_tensors, train_targets, \n",
    "          validation_data=(valid_tensors, valid_targets),\n",
    "          epochs=epochs, batch_size=20, callbacks=[checkpointer], verbose=1)"
   ]
  },
  {
   "cell_type": "code",
   "execution_count": 71,
   "metadata": {},
   "outputs": [],
   "source": [
    "### TODO: Load the model weights with the best validation loss.\n",
    "mymodel.load_weights('saved_models/weights.best.from_scratch.hdf5')\n"
   ]
  },
  {
   "cell_type": "code",
   "execution_count": 72,
   "metadata": {},
   "outputs": [
    {
     "name": "stdout",
     "output_type": "stream",
     "text": [
      "Test accuracy: 17.4641%\n"
     ]
    }
   ],
   "source": [
    "### TODO: Calculate classification accuracy on the test dataset.\n",
    "# get index of predicted dog breed for each image in test set\n",
    "dog_breed_predictions = [np.argmax(mymodel.predict(np.expand_dims(tensor, axis=0))) for tensor in test_tensors]\n",
    "\n",
    "# report test accuracy\n",
    "test_accuracy = 100*np.sum(np.array(dog_breed_predictions)==np.argmax(test_targets, axis=1))/len(dog_breed_predictions)\n",
    "print('Test accuracy: %.4f%%' % test_accuracy)"
   ]
  },
  {
   "cell_type": "code",
   "execution_count": 73,
   "metadata": {},
   "outputs": [],
   "source": [
    "# Pre process data before sending it to model for predict\n",
    "from PIL import ImageFile                            \n",
    "ImageFile.LOAD_TRUNCATED_IMAGES = True                 \n",
    "\n",
    "# pre-process the data for Keras\n",
    "def preprocess(img_path):\n",
    "    out_tensor = path_to_tensor(img_path).astype('float32')/255\n",
    "    return out_tensor\n",
    "    "
   ]
  },
  {
   "cell_type": "code",
   "execution_count": 49,
   "metadata": {
    "scrolled": true
   },
   "outputs": [
    {
     "data": {
      "text/plain": [
       "array(['dogImages/train/095.Kuvasz/Kuvasz_06442.jpg',\n",
       "       'dogImages/train/057.Dalmatian/Dalmatian_04054.jpg',\n",
       "       'dogImages/train/088.Irish_water_spaniel/Irish_water_spaniel_06014.jpg',\n",
       "       'dogImages/train/008.American_staffordshire_terrier/American_staffordshire_terrier_00596.jpg',\n",
       "       'dogImages/train/008.American_staffordshire_terrier/American_staffordshire_terrier_00563.jpg',\n",
       "       'dogImages/train/063.English_springer_spaniel/English_springer_spaniel_04469.jpg',\n",
       "       'dogImages/train/054.Collie/Collie_03789.jpg',\n",
       "       'dogImages/train/119.Petit_basset_griffon_vendeen/Petit_basset_griffon_vendeen_07705.jpg',\n",
       "       'dogImages/train/009.American_water_spaniel/American_water_spaniel_00625.jpg',\n",
       "       'dogImages/train/081.Greyhound/Greyhound_05559.jpg',\n",
       "       'dogImages/train/012.Australian_shepherd/Australian_shepherd_00814.jpg',\n",
       "       'dogImages/train/071.German_shepherd_dog/German_shepherd_dog_04890.jpg',\n",
       "       'dogImages/train/015.Basset_hound/Basset_hound_01094.jpg',\n",
       "       'dogImages/train/053.Cocker_spaniel/Cocker_spaniel_03768.jpg',\n",
       "       'dogImages/train/099.Lhasa_apso/Lhasa_apso_06646.jpg',\n",
       "       'dogImages/train/009.American_water_spaniel/American_water_spaniel_00628.jpg',\n",
       "       'dogImages/train/056.Dachshund/Dachshund_03935.jpg',\n",
       "       'dogImages/train/082.Havanese/Havanese_05627.jpg',\n",
       "       'dogImages/train/117.Pekingese/Pekingese_07595.jpg',\n",
       "       'dogImages/train/051.Chow_chow/Chow_chow_03650.jpg',\n",
       "       'dogImages/train/097.Lakeland_terrier/Lakeland_terrier_06526.jpg',\n",
       "       'dogImages/train/057.Dalmatian/Dalmatian_04023.jpg',\n",
       "       'dogImages/train/096.Labrador_retriever/Labrador_retriever_06474.jpg',\n",
       "       'dogImages/train/106.Newfoundland/Newfoundland_06989.jpg',\n",
       "       'dogImages/train/117.Pekingese/Pekingese_07559.jpg',\n",
       "       'dogImages/train/087.Irish_terrier/Irish_terrier_05904.jpg',\n",
       "       'dogImages/train/067.Finnish_spitz/Finnish_spitz_04672.jpg',\n",
       "       'dogImages/train/005.Alaskan_malamute/Alaskan_malamute_00370.jpg',\n",
       "       'dogImages/train/023.Bernese_mountain_dog/Bernese_mountain_dog_01621.jpg',\n",
       "       'dogImages/train/106.Newfoundland/Newfoundland_06982.jpg',\n",
       "       'dogImages/train/039.Bull_terrier/Bull_terrier_02805.jpg',\n",
       "       'dogImages/train/090.Italian_greyhound/Italian_greyhound_06108.jpg',\n",
       "       'dogImages/train/097.Lakeland_terrier/Lakeland_terrier_06516.jpg',\n",
       "       'dogImages/train/012.Australian_shepherd/Australian_shepherd_00855.jpg',\n",
       "       'dogImages/train/086.Irish_setter/Irish_setter_05810.jpg',\n",
       "       'dogImages/train/102.Manchester_terrier/Manchester_terrier_06806.jpg',\n",
       "       'dogImages/train/119.Petit_basset_griffon_vendeen/Petit_basset_griffon_vendeen_07694.jpg',\n",
       "       'dogImages/train/057.Dalmatian/Dalmatian_04086.jpg',\n",
       "       'dogImages/train/015.Basset_hound/Basset_hound_01115.jpg',\n",
       "       'dogImages/train/062.English_setter/English_setter_04407.jpg',\n",
       "       'dogImages/train/026.Black_russian_terrier/Black_russian_terrier_01822.jpg',\n",
       "       'dogImages/train/018.Beauceron/Beauceron_01279.jpg',\n",
       "       'dogImages/train/017.Bearded_collie/Bearded_collie_01245.jpg',\n",
       "       'dogImages/train/121.Plott/Plott_07784.jpg',\n",
       "       'dogImages/train/047.Chesapeake_bay_retriever/Chesapeake_bay_retriever_03365.jpg',\n",
       "       'dogImages/train/076.Golden_retriever/Golden_retriever_05230.jpg',\n",
       "       'dogImages/train/039.Bull_terrier/Bull_terrier_02751.jpg',\n",
       "       'dogImages/train/054.Collie/Collie_03838.jpg',\n",
       "       'dogImages/train/027.Bloodhound/Bloodhound_01946.jpg',\n",
       "       'dogImages/train/110.Norwegian_lundehund/Norwegian_lundehund_07220.jpg',\n",
       "       'dogImages/train/082.Havanese/Havanese_05616.jpg',\n",
       "       'dogImages/train/045.Cardigan_welsh_corgi/Cardigan_welsh_corgi_03237.jpg',\n",
       "       'dogImages/train/040.Bulldog/Bulldog_02843.jpg',\n",
       "       'dogImages/train/085.Irish_red_and_white_setter/Irish_red_and_white_setter_05779.jpg',\n",
       "       'dogImages/train/006.American_eskimo_dog/American_eskimo_dog_00398.jpg',\n",
       "       'dogImages/train/019.Bedlington_terrier/Bedlington_terrier_01374.jpg',\n",
       "       'dogImages/train/010.Anatolian_shepherd_dog/Anatolian_shepherd_dog_00681.jpg',\n",
       "       'dogImages/train/008.American_staffordshire_terrier/American_staffordshire_terrier_00612.jpg',\n",
       "       'dogImages/train/120.Pharaoh_hound/Pharaoh_hound_07726.jpg',\n",
       "       'dogImages/train/046.Cavalier_king_charles_spaniel/Cavalier_king_charles_spaniel_03305.jpg',\n",
       "       'dogImages/train/017.Bearded_collie/Bearded_collie_01244.jpg',\n",
       "       'dogImages/train/037.Brittany/Brittany_02614.jpg',\n",
       "       'dogImages/train/011.Australian_cattle_dog/Australian_cattle_dog_00723.jpg',\n",
       "       'dogImages/train/024.Bichon_frise/Bichon_frise_01771.jpg',\n",
       "       'dogImages/train/078.Great_dane/Great_dane_05318.jpg',\n",
       "       'dogImages/train/017.Bearded_collie/Bearded_collie_01214.jpg',\n",
       "       'dogImages/train/105.Neapolitan_mastiff/Neapolitan_mastiff_06938.jpg',\n",
       "       'dogImages/train/079.Great_pyrenees/Great_pyrenees_05391.jpg',\n",
       "       'dogImages/train/064.English_toy_spaniel/English_toy_spaniel_04506.jpg',\n",
       "       'dogImages/train/090.Italian_greyhound/Italian_greyhound_06130.jpg',\n",
       "       'dogImages/train/132.Xoloitzcuintli/Xoloitzcuintli_08292.jpg',\n",
       "       'dogImages/train/001.Affenpinscher/Affenpinscher_00016.jpg',\n",
       "       'dogImages/train/013.Australian_terrier/Australian_terrier_00912.jpg',\n",
       "       'dogImages/train/055.Curly-coated_retriever/Curly-coated_retriever_03897.jpg',\n",
       "       'dogImages/train/093.Kerry_blue_terrier/Kerry_blue_terrier_06298.jpg',\n",
       "       'dogImages/train/088.Irish_water_spaniel/Irish_water_spaniel_05958.jpg',\n",
       "       'dogImages/train/103.Mastiff/Mastiff_06853.jpg',\n",
       "       'dogImages/train/114.Otterhound/Otterhound_07422.jpg',\n",
       "       'dogImages/train/084.Icelandic_sheepdog/Icelandic_sheepdog_05705.jpg',\n",
       "       'dogImages/train/106.Newfoundland/Newfoundland_07004.jpg',\n",
       "       'dogImages/train/058.Dandie_dinmont_terrier/Dandie_dinmont_terrier_04106.jpg',\n",
       "       'dogImages/train/087.Irish_terrier/Irish_terrier_05942.jpg',\n",
       "       'dogImages/train/081.Greyhound/Greyhound_05545.jpg',\n",
       "       'dogImages/train/103.Mastiff/Mastiff_06813.jpg',\n",
       "       'dogImages/train/095.Kuvasz/Kuvasz_06385.jpg',\n",
       "       'dogImages/train/032.Boston_terrier/Boston_terrier_02272.jpg',\n",
       "       'dogImages/train/090.Italian_greyhound/Italian_greyhound_06133.jpg',\n",
       "       'dogImages/train/031.Borzoi/Borzoi_02156.jpg',\n",
       "       'dogImages/train/122.Pointer/Pointer_07836.jpg',\n",
       "       'dogImages/train/056.Dachshund/Dachshund_03948.jpg',\n",
       "       'dogImages/train/067.Finnish_spitz/Finnish_spitz_04673.jpg',\n",
       "       'dogImages/train/077.Gordon_setter/Gordon_setter_05300.jpg',\n",
       "       'dogImages/train/034.Boxer/Boxer_02411.jpg',\n",
       "       'dogImages/train/002.Afghan_hound/Afghan_hound_00121.jpg',\n",
       "       'dogImages/train/118.Pembroke_welsh_corgi/Pembroke_welsh_corgi_07680.jpg',\n",
       "       'dogImages/train/095.Kuvasz/Kuvasz_06418.jpg',\n",
       "       'dogImages/train/044.Cane_corso/Cane_corso_03102.jpg',\n",
       "       'dogImages/train/051.Chow_chow/Chow_chow_03617.jpg',\n",
       "       'dogImages/train/074.Giant_schnauzer/Giant_schnauzer_05084.jpg',\n",
       "       'dogImages/train/011.Australian_cattle_dog/Australian_cattle_dog_00744.jpg'],\n",
       "      dtype='<U99')"
      ]
     },
     "execution_count": 49,
     "metadata": {},
     "output_type": "execute_result"
    }
   ],
   "source": [
    "dog_files_short"
   ]
  },
  {
   "cell_type": "code",
   "execution_count": 74,
   "metadata": {},
   "outputs": [],
   "source": [
    "img_path = 'dogImages/train/017.Bearded_collie/Bearded_collie_01245.jpg'\n",
    "# img_path = 'lfw/Calbert_Cheaney/Calbert_Cheaney_0001.jpg'\n",
    "\n"
   ]
  },
  {
   "cell_type": "code",
   "execution_count": 86,
   "metadata": {},
   "outputs": [],
   "source": [
    "def predict(img_path):\n",
    "    tensor = preprocess(img_path)\n",
    "    dog_breed_predictions = np.argmax(mymodel.predict(tensor))\n",
    "#     print(dog_breed_predictions)\n",
    "    return dog_names[dog_breed_predictions]"
   ]
  },
  {
   "cell_type": "code",
   "execution_count": 87,
   "metadata": {},
   "outputs": [
    {
     "name": "stdout",
     "output_type": "stream",
     "text": [
      "Bichon_frise : dogImages/train/095.Kuvasz/Kuvasz_06442.jpg\n",
      "Basset_hound : dogImages/train/057.Dalmatian/Dalmatian_04054.jpg\n",
      "Irish_water_spaniel : dogImages/train/088.Irish_water_spaniel/Irish_water_spaniel_06014.jpg\n",
      "Dogue_de_bordeaux : dogImages/train/008.American_staffordshire_terrier/American_staffordshire_terrier_00596.jpg\n",
      "Collie : dogImages/train/008.American_staffordshire_terrier/American_staffordshire_terrier_00563.jpg\n",
      "Cardigan_welsh_corgi : dogImages/train/063.English_springer_spaniel/English_springer_spaniel_04469.jpg\n",
      "Collie : dogImages/train/054.Collie/Collie_03789.jpg\n",
      "Italian_greyhound : dogImages/train/119.Petit_basset_griffon_vendeen/Petit_basset_griffon_vendeen_07705.jpg\n",
      "Boykin_spaniel : dogImages/train/009.American_water_spaniel/American_water_spaniel_00625.jpg\n",
      "Bedlington_terrier : dogImages/train/081.Greyhound/Greyhound_05559.jpg\n",
      "Australian_shepherd : dogImages/train/012.Australian_shepherd/Australian_shepherd_00814.jpg\n",
      "German_shepherd_dog : dogImages/train/071.German_shepherd_dog/German_shepherd_dog_04890.jpg\n",
      "American_foxhound : dogImages/train/015.Basset_hound/Basset_hound_01094.jpg\n",
      "Pomeranian : dogImages/train/053.Cocker_spaniel/Cocker_spaniel_03768.jpg\n",
      "Norwegian_buhund : dogImages/train/099.Lhasa_apso/Lhasa_apso_06646.jpg\n",
      "Irish_water_spaniel : dogImages/train/009.American_water_spaniel/American_water_spaniel_00628.jpg\n",
      "German_pinscher : dogImages/train/056.Dachshund/Dachshund_03935.jpg\n",
      "Pekingese : dogImages/train/082.Havanese/Havanese_05627.jpg\n",
      "Briard : dogImages/train/117.Pekingese/Pekingese_07595.jpg\n",
      "Pomeranian : dogImages/train/051.Chow_chow/Chow_chow_03650.jpg\n",
      "Golden_retriever : dogImages/train/097.Lakeland_terrier/Lakeland_terrier_06526.jpg\n",
      "Dalmatian : dogImages/train/057.Dalmatian/Dalmatian_04023.jpg\n",
      "Akita : dogImages/train/096.Labrador_retriever/Labrador_retriever_06474.jpg\n",
      "Giant_schnauzer : dogImages/train/106.Newfoundland/Newfoundland_06989.jpg\n",
      "Collie : dogImages/train/117.Pekingese/Pekingese_07559.jpg\n",
      "Irish_setter : dogImages/train/087.Irish_terrier/Irish_terrier_05904.jpg\n",
      "Nova_scotia_duck_tolling_retriever : dogImages/train/067.Finnish_spitz/Finnish_spitz_04672.jpg\n",
      "Alaskan_malamute : dogImages/train/005.Alaskan_malamute/Alaskan_malamute_00370.jpg\n",
      "Bernese_mountain_dog : dogImages/train/023.Bernese_mountain_dog/Bernese_mountain_dog_01621.jpg\n",
      "Newfoundland : dogImages/train/106.Newfoundland/Newfoundland_06982.jpg\n",
      "American_foxhound : dogImages/train/039.Bull_terrier/Bull_terrier_02805.jpg\n",
      "Bull_terrier : dogImages/train/090.Italian_greyhound/Italian_greyhound_06108.jpg\n",
      "Irish_terrier : dogImages/train/097.Lakeland_terrier/Lakeland_terrier_06516.jpg\n",
      "Chihuahua : dogImages/train/012.Australian_shepherd/Australian_shepherd_00855.jpg\n",
      "Pharaoh_hound : dogImages/train/086.Irish_setter/Irish_setter_05810.jpg\n",
      "Chihuahua : dogImages/train/102.Manchester_terrier/Manchester_terrier_06806.jpg\n",
      "Norwegian_elkhound : dogImages/train/119.Petit_basset_griffon_vendeen/Petit_basset_griffon_vendeen_07694.jpg\n",
      "Dalmatian : dogImages/train/057.Dalmatian/Dalmatian_04086.jpg\n",
      "Basset_hound : dogImages/train/015.Basset_hound/Basset_hound_01115.jpg\n",
      "Bulldog : dogImages/train/062.English_setter/English_setter_04407.jpg\n",
      "Flat-coated_retriever : dogImages/train/026.Black_russian_terrier/Black_russian_terrier_01822.jpg\n",
      "Beauceron : dogImages/train/018.Beauceron/Beauceron_01279.jpg\n",
      "Alaskan_malamute : dogImages/train/017.Bearded_collie/Bearded_collie_01245.jpg\n",
      "Greyhound : dogImages/train/121.Plott/Plott_07784.jpg\n",
      "Irish_terrier : dogImages/train/047.Chesapeake_bay_retriever/Chesapeake_bay_retriever_03365.jpg\n",
      "Chow_chow : dogImages/train/076.Golden_retriever/Golden_retriever_05230.jpg\n",
      "Bull_terrier : dogImages/train/039.Bull_terrier/Bull_terrier_02751.jpg\n",
      "Australian_shepherd : dogImages/train/054.Collie/Collie_03838.jpg\n",
      "Bloodhound : dogImages/train/027.Bloodhound/Bloodhound_01946.jpg\n",
      "Norwegian_lundehund : dogImages/train/110.Norwegian_lundehund/Norwegian_lundehund_07220.jpg\n",
      "Bichon_frise : dogImages/train/082.Havanese/Havanese_05616.jpg\n",
      "Australian_shepherd : dogImages/train/045.Cardigan_welsh_corgi/Cardigan_welsh_corgi_03237.jpg\n",
      "Japanese_chin : dogImages/train/040.Bulldog/Bulldog_02843.jpg\n",
      "Brittany : dogImages/train/085.Irish_red_and_white_setter/Irish_red_and_white_setter_05779.jpg\n",
      "Bichon_frise : dogImages/train/006.American_eskimo_dog/American_eskimo_dog_00398.jpg\n",
      "Komondor : dogImages/train/019.Bedlington_terrier/Bedlington_terrier_01374.jpg\n",
      "Afghan_hound : dogImages/train/010.Anatolian_shepherd_dog/Anatolian_shepherd_dog_00681.jpg\n",
      "Basset_hound : dogImages/train/008.American_staffordshire_terrier/American_staffordshire_terrier_00612.jpg\n",
      "Border_terrier : dogImages/train/120.Pharaoh_hound/Pharaoh_hound_07726.jpg\n",
      "Saint_bernard : dogImages/train/046.Cavalier_king_charles_spaniel/Cavalier_king_charles_spaniel_03305.jpg\n",
      "Old_english_sheepdog : dogImages/train/017.Bearded_collie/Bearded_collie_01244.jpg\n",
      "Beagle : dogImages/train/037.Brittany/Brittany_02614.jpg\n",
      "Australian_cattle_dog : dogImages/train/011.Australian_cattle_dog/Australian_cattle_dog_00723.jpg\n",
      "Bichon_frise : dogImages/train/024.Bichon_frise/Bichon_frise_01771.jpg\n",
      "Bullmastiff : dogImages/train/078.Great_dane/Great_dane_05318.jpg\n",
      "Alaskan_malamute : dogImages/train/017.Bearded_collie/Bearded_collie_01214.jpg\n",
      "Affenpinscher : dogImages/train/105.Neapolitan_mastiff/Neapolitan_mastiff_06938.jpg\n",
      "American_eskimo_dog : dogImages/train/079.Great_pyrenees/Great_pyrenees_05391.jpg\n",
      "German_pinscher : dogImages/train/064.English_toy_spaniel/English_toy_spaniel_04506.jpg\n",
      "Italian_greyhound : dogImages/train/090.Italian_greyhound/Italian_greyhound_06130.jpg\n",
      "Irish_terrier : dogImages/train/132.Xoloitzcuintli/Xoloitzcuintli_08292.jpg\n",
      "Affenpinscher : dogImages/train/001.Affenpinscher/Affenpinscher_00016.jpg\n",
      "Chow_chow : dogImages/train/013.Australian_terrier/Australian_terrier_00912.jpg\n",
      "Boykin_spaniel : dogImages/train/055.Curly-coated_retriever/Curly-coated_retriever_03897.jpg\n",
      "Affenpinscher : dogImages/train/093.Kerry_blue_terrier/Kerry_blue_terrier_06298.jpg\n",
      "Bloodhound : dogImages/train/088.Irish_water_spaniel/Irish_water_spaniel_05958.jpg\n",
      "Mastiff : dogImages/train/103.Mastiff/Mastiff_06853.jpg\n",
      "Akita : dogImages/train/114.Otterhound/Otterhound_07422.jpg\n",
      "Pembroke_welsh_corgi : dogImages/train/084.Icelandic_sheepdog/Icelandic_sheepdog_05705.jpg\n",
      "Affenpinscher : dogImages/train/106.Newfoundland/Newfoundland_07004.jpg\n",
      "Dandie_dinmont_terrier : dogImages/train/058.Dandie_dinmont_terrier/Dandie_dinmont_terrier_04106.jpg\n",
      "Afghan_hound : dogImages/train/087.Irish_terrier/Irish_terrier_05942.jpg\n",
      "Akita : dogImages/train/081.Greyhound/Greyhound_05545.jpg\n",
      "Keeshond : dogImages/train/103.Mastiff/Mastiff_06813.jpg\n",
      "Bichon_frise : dogImages/train/095.Kuvasz/Kuvasz_06385.jpg\n",
      "Boston_terrier : dogImages/train/032.Boston_terrier/Boston_terrier_02272.jpg\n",
      "Dalmatian : dogImages/train/090.Italian_greyhound/Italian_greyhound_06133.jpg\n",
      "Akita : dogImages/train/031.Borzoi/Borzoi_02156.jpg\n",
      "English_springer_spaniel : dogImages/train/122.Pointer/Pointer_07836.jpg\n",
      "Bloodhound : dogImages/train/056.Dachshund/Dachshund_03948.jpg\n",
      "Chow_chow : dogImages/train/067.Finnish_spitz/Finnish_spitz_04673.jpg\n",
      "Gordon_setter : dogImages/train/077.Gordon_setter/Gordon_setter_05300.jpg\n",
      "Basset_hound : dogImages/train/034.Boxer/Boxer_02411.jpg\n",
      "Maltese : dogImages/train/002.Afghan_hound/Afghan_hound_00121.jpg\n",
      "Pembroke_welsh_corgi : dogImages/train/118.Pembroke_welsh_corgi/Pembroke_welsh_corgi_07680.jpg\n",
      "American_eskimo_dog : dogImages/train/095.Kuvasz/Kuvasz_06418.jpg\n",
      "Keeshond : dogImages/train/044.Cane_corso/Cane_corso_03102.jpg\n",
      "Cairn_terrier : dogImages/train/051.Chow_chow/Chow_chow_03617.jpg\n",
      "Border_terrier : dogImages/train/074.Giant_schnauzer/Giant_schnauzer_05084.jpg\n",
      "Australian_cattle_dog : dogImages/train/011.Australian_cattle_dog/Australian_cattle_dog_00744.jpg\n"
     ]
    }
   ],
   "source": [
    "for img_path in dog_files_short:\n",
    "    print(predict(img_path), \":\",img_path)"
   ]
  },
  {
   "cell_type": "code",
   "execution_count": null,
   "metadata": {},
   "outputs": [],
   "source": []
  },
  {
   "cell_type": "code",
   "execution_count": null,
   "metadata": {},
   "outputs": [],
   "source": [
    "\n",
    "\n",
    "# report test accuracy\n",
    "test_accuracy = 100*np.sum(np.array(dog_breed_predictions)==np.argmax(test_targets, axis=1))/len(dog_breed_predictions)\n",
    "print('Test accuracy: %.4f%%' % test_accuracy)\n",
    "\n"
   ]
  },
  {
   "cell_type": "code",
   "execution_count": 24,
   "metadata": {},
   "outputs": [
    {
     "data": {
      "text/plain": [
       "(224, 224, 3)"
      ]
     },
     "execution_count": 24,
     "metadata": {},
     "output_type": "execute_result"
    }
   ],
   "source": [
    "train_tensors[0].shape"
   ]
  },
  {
   "cell_type": "code",
   "execution_count": 22,
   "metadata": {},
   "outputs": [
    {
     "data": {
      "text/plain": [
       "(1, 224, 224, 3)"
      ]
     },
     "execution_count": 22,
     "metadata": {},
     "output_type": "execute_result"
    }
   ],
   "source": [
    "out_tensor.shape"
   ]
  },
  {
   "cell_type": "code",
   "execution_count": null,
   "metadata": {},
   "outputs": [],
   "source": [
    "### returns \"True\" if a dog is detected in the image stored at img_path\n",
    "def dog_detector(img_path):    \n",
    "#     print(\"inside dog detector\")\n",
    "    prediction = ResNet50_predict_labels(img_path)\n",
    "    return ((prediction <= 268) & (prediction >= 151)) "
   ]
  },
  {
   "cell_type": "code",
   "execution_count": null,
   "metadata": {},
   "outputs": [],
   "source": [
    "from extract_bottleneck_features import *\n",
    "\n",
    "def mymodel_predict_breed(img_path):\n",
    "    # extract bottleneck features\n",
    "    bottleneck_feature = extract_VGG16(path_to_tensor(img_path))\n",
    "    # obtain predicted vector\n",
    "    predicted_vector = VGG16_model.predict(bottleneck_feature)\n",
    "    print(np.argmax(predicted_vector))\n",
    "    \n",
    "    # return dog breed that is predicted by the model\n",
    "    return dog_names[np.argmax(predicted_vector)]"
   ]
  },
  {
   "cell_type": "markdown",
   "metadata": {},
   "source": [
    "---\n",
    "<a id='step7'></a>\n",
    "## Step 7: Test Your Algorithm\n",
    "\n",
    "In this section, you will take your new algorithm for a spin!  What kind of dog does the algorithm think that __you__ look like?  If you have a dog, does it predict your dog's breed accurately?  If you have a cat, does it mistakenly think that your cat is a dog?\n",
    "\n",
    "### (IMPLEMENTATION) Test Your Algorithm on Sample Images!\n",
    "\n",
    "Test your algorithm at least six images on your computer.  Feel free to use any images you like.  Use at least two human and two dog images.  \n",
    "\n",
    "__Question 6:__ Is the output better than you expected :) ?  Or worse :( ?  Provide at least three possible points of improvement for your algorithm.\n",
    "\n",
    "__Answer:__ "
   ]
  },
  {
   "cell_type": "code",
   "execution_count": 39,
   "metadata": {},
   "outputs": [],
   "source": [
    "## TODO: Execute your algorithm from Step 6 on\n",
    "## at least 6 images on your computer.\n",
    "## Feel free to use as many code cells as needed."
   ]
  }
 ],
 "metadata": {
  "anaconda-cloud": {},
  "kernelspec": {
   "display_name": "Python 3",
   "language": "python",
   "name": "python3"
  },
  "language_info": {
   "codemirror_mode": {
    "name": "ipython",
    "version": 3
   },
   "file_extension": ".py",
   "mimetype": "text/x-python",
   "name": "python",
   "nbconvert_exporter": "python",
   "pygments_lexer": "ipython3",
   "version": "3.6.5"
  }
 },
 "nbformat": 4,
 "nbformat_minor": 1
}
